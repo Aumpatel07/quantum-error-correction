{
 "cells": [
  {
   "cell_type": "code",
   "execution_count": 1,
   "metadata": {},
   "outputs": [],
   "source": [
    "import numpy as np\n",
    "from matplotlib import pyplot as plt\n",
    "from bposd.hgp import hgp\n",
    "from bposd.css_decode_sim import css_decode_sim\n",
    "from css_decode_sim1 import css_decode_sim1\n",
    "from css_decode_sim2 import css_decode_sim2\n",
    "from bposd.css import css_code\n",
    "from automated_H_generation_for_surface_code import H_matrix_generation,edge_augmentated_H_matrix,H_matrix_generation\n",
    "from automated_H_genreration_for_colour_codes import H_matrix_generation as H_matrix_generation1\n",
    "from simulation_loop_for_surface_code import surface_code_with_edge_augmentation"
   ]
  },
  {
   "cell_type": "code",
   "execution_count": 2,
   "metadata": {},
   "outputs": [],
   "source": [
    "Hx,Hz = H_matrix_generation1(2)\n",
    "Hx1,Hz1 = edge_augmentated_H_matrix(1)\n",
    "Hx2,Hz2 = H_matrix_generation(1)\n",
    "values = np.linspace(0.1,0.1,num=1)"
   ]
  },
  {
   "cell_type": "code",
   "execution_count": 3,
   "metadata": {},
   "outputs": [
    {
     "name": "stdout",
     "output_type": "stream",
     "text": [
      "RNG Seed: 3\n",
      "Constructing CSS code from hx and hz matrices...\n",
      "Checking the CSS code is valid...\n",
      "<Unnamed CSS code>, (3,8)-[[16,4,nan]]\n",
      " -Block dimensions: Pass\n",
      " -PCMs commute hz@hx.T==0: Pass\n",
      " -PCMs commute hx@hz.T==0: Pass\n",
      " -lx \\in ker{hz} AND lz \\in ker{hx}: Pass\n",
      " -lx and lz anticommute: Pass\n",
      " -<Unnamed CSS code> is a valid CSS code w/ params (3,8)-[[16,4,nan]]\n"
     ]
    },
    {
     "name": "stderr",
     "output_type": "stream",
     "text": [
      "d_max: 12; OSDW_WER: 100±0%; OSDW: 100±0%; OSD0: 100±0%;: 100% 1/1 [00:00<00:00, 333.07it/s]"
     ]
    },
    {
     "name": "stdout",
     "output_type": "stream",
     "text": [
      "[0.01 0.01 0.01 0.01 0.01 0.01 0.01 0.01]\n"
     ]
    },
    {
     "name": "stderr",
     "output_type": "stream",
     "text": [
      "\n"
     ]
    }
   ],
   "source": [
    "lk_array = np.empty(values.shape[0],dtype=object)\n",
    "k = 0 \n",
    "\n",
    "for i in values:\n",
    "    osd_options={\n",
    "    'error_rate': i,\n",
    "    'target_runs': 1,\n",
    "    'xyz_error_bias': [0, 0, 1],\n",
    "    'output_file': 'test.json',\n",
    "    'bp_method': \"ms\",\n",
    "    'ms_scaling_factor': 0,\n",
    "    'osd_method': \"osd_cs\",\n",
    "    'osd_order': 0,\n",
    "    'channel_update': None,\n",
    "    'seed': 3,\n",
    "    'max_iter': 20,\n",
    "    'output_file': \"test.json\"\n",
    "    }\n",
    "    # lk = css_decode_sim2(Hx2,Hx1,Hx,Hz, **osd_options)\n",
    "    lk = css_decode_sim1(Hx1,Hx,Hz, **osd_options)\n",
    "    # lk = css_decode_sim(Hx,Hz, **osd_options)\n",
    "    lk_array[k]= lk\n",
    "    k += 1 "
   ]
  },
  {
   "cell_type": "code",
   "execution_count": null,
   "metadata": {},
   "outputs": [],
   "source": [
    "lk_array1 = np.empty(values.shape[0],dtype=object)\n",
    "k = 0 \n",
    "\n",
    "for i in values:\n",
    "    osd_options={\n",
    "    'error_rate': i,\n",
    "    'target_runs': 1,\n",
    "    'xyz_error_bias': [0, 0, 1],\n",
    "    'output_file': 'test.json',\n",
    "    'bp_method': \"ms\",\n",
    "    'ms_scaling_factor': 0,\n",
    "    'osd_method': \"osd_cs\",\n",
    "    'osd_order': 0,\n",
    "    'channel_update': None,\n",
    "    'seed': 3,\n",
    "    'max_iter': 20,\n",
    "    'output_file': \"test.json\"\n",
    "    }\n",
    "    lk = css_decode_sim(Hx1,Hz1, **osd_options)\n",
    "    lk_array1[k]= lk\n",
    "    k += 1 "
   ]
  },
  {
   "cell_type": "code",
   "execution_count": null,
   "metadata": {},
   "outputs": [],
   "source": [
    "y = np.array([lk.osdw_logical_error_rate for lk in lk_array])\n",
    "y0 = np.array([lk.osd0_logical_error_rate for lk in lk_array])\n",
    "\n",
    "y1 = np.array([lk.osdw_logical_error_rate for lk in lk_array1])\n",
    "y01 = np.array([lk.osd0_logical_error_rate for lk in lk_array1])\n",
    "\n",
    "print(y1 == y01)\n",
    "print(y == y0)"
   ]
  },
  {
   "cell_type": "code",
   "execution_count": null,
   "metadata": {},
   "outputs": [],
   "source": [
    "plt.loglog(values,y,'-o',label = \"size 2\")\n",
    "plt.loglog(values,y0,'-o',label = \"size 2 order 0\")\n",
    "plt.loglog(values,y01,'-o',label = \"size 4 order 0\")\n",
    "plt.loglog(values,y1,'-o',label = \"size 4\")\n",
    "# plt.loglog(values,y4,'-o',label = \"size 8\")\n",
    "# plt.loglog(values,y5,'-o',label = \"size 16\")\n",
    "# plt.loglog(values,y6,'-o',label = \"size 32\")\n",
    "# plt.loglog(values,y7,'-o',label = \"size 64\")\n",
    "\n",
    "\n",
    "plt.title(\"surface code(no edge augmentation) with varying block sizes\")\n",
    "plt.legend()\n",
    "plt.xlabel(\"error rate\")\n",
    "plt.ylabel(\"logical error rate\")\n",
    "\n",
    "# plt.axvline(0.09)\n",
    "# plt.axvline(0.1)\n",
    "# plt.axvline(0.11)\n",
    "\n",
    "# plt.ion()\n",
    "plt.show()"
   ]
  },
  {
   "cell_type": "code",
   "execution_count": null,
   "metadata": {},
   "outputs": [],
   "source": [
    "lk2_array = surface_code_with_edge_augmentation(2,values)\n",
    "lk2_array1 = surface_code_with_edge_augmentation(3,values)\n",
    "y1 = np.array([lk.osdw_logical_error_rate for lk in lk2_array])\n",
    "y2 = np.array([lk.osdw_logical_error_rate for lk in lk2_array1])\n",
    "plt.loglog(values,y1,'-o',label = \"size 2\")\n",
    "plt.loglog(values,y2,'-o',label = \"size 4\")\n",
    "plt.legend()\n",
    "plt.show()"
   ]
  }
 ],
 "metadata": {
  "kernelspec": {
   "display_name": ".venv",
   "language": "python",
   "name": "python3"
  },
  "language_info": {
   "codemirror_mode": {
    "name": "ipython",
    "version": 3
   },
   "file_extension": ".py",
   "mimetype": "text/x-python",
   "name": "python",
   "nbconvert_exporter": "python",
   "pygments_lexer": "ipython3",
   "version": "3.12.0"
  }
 },
 "nbformat": 4,
 "nbformat_minor": 2
}
