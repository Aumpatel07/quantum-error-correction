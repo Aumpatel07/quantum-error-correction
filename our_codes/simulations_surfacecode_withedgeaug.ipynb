{
 "cells": [
  {
   "cell_type": "code",
   "execution_count": 2,
   "metadata": {},
   "outputs": [],
   "source": [
    "from simulation_loop_for_surface_code import surface_code_with_edge_augmentation,surface_code_without_edge_augmentation\n",
    "import matplotlib.pyplot as plt\n",
    "import numpy as np"
   ]
  },
  {
   "cell_type": "markdown",
   "metadata": {},
   "source": [
    "Simlations for edge augmented surface codes "
   ]
  },
  {
   "cell_type": "code",
   "execution_count": 6,
   "metadata": {},
   "outputs": [],
   "source": [
    "values = np.linspace(0.01,0.2,num=20)"
   ]
  },
  {
   "cell_type": "code",
   "execution_count": 7,
   "metadata": {},
   "outputs": [
    {
     "name": "stdout",
     "output_type": "stream",
     "text": [
      "RNG Seed: 3\n",
      "Constructing CSS code from hx and hz matrices...\n",
      "Checking the CSS code is valid...\n",
      "<Unnamed CSS code>, (2,8)-[[32,2,nan]]\n",
      " -Block dimensions: Pass\n",
      " -PCMs commute hz@hx.T==0: Pass\n",
      " -PCMs commute hx@hz.T==0: Pass\n",
      " -lx \\in ker{hz} AND lz \\in ker{hx}: Pass\n",
      " -lx and lz anticommute: Pass\n",
      " -<Unnamed CSS code> is a valid CSS code w/ params (2,8)-[[32,2,nan]]\n"
     ]
    },
    {
     "name": "stderr",
     "output_type": "stream",
     "text": [
      "d_max: 32; OSDW_WER: 0±0%; OSDW: 0±0%; OSD0: 0±0%;:   0% 0/1000 [00:00<?, ?it/s]"
     ]
    },
    {
     "name": "stderr",
     "output_type": "stream",
     "text": [
      "d_max: 32; OSDW_WER: 0±0%; OSDW: 0±0%; OSD0: 0±0%;: 100% 1000/1000 [00:01<00:00, 835.97it/s]\n"
     ]
    },
    {
     "name": "stdout",
     "output_type": "stream",
     "text": [
      "RNG Seed: 3\n",
      "Constructing CSS code from hx and hz matrices...\n",
      "Checking the CSS code is valid...\n",
      "<Unnamed CSS code>, (2,8)-[[32,2,nan]]\n",
      " -Block dimensions: Pass\n",
      " -PCMs commute hz@hx.T==0: Pass\n",
      " -PCMs commute hx@hz.T==0: Pass\n",
      " -lx \\in ker{hz} AND lz \\in ker{hx}: Pass\n",
      " -lx and lz anticommute: Pass\n",
      " -<Unnamed CSS code> is a valid CSS code w/ params (2,8)-[[32,2,nan]]\n"
     ]
    },
    {
     "name": "stderr",
     "output_type": "stream",
     "text": [
      "d_max: 32; OSDW_WER: 0±0%; OSDW: 0±0%; OSD0: 0±0%;: 100% 1000/1000 [00:01<00:00, 856.31it/s]\n"
     ]
    },
    {
     "name": "stdout",
     "output_type": "stream",
     "text": [
      "RNG Seed: 3\n",
      "Constructing CSS code from hx and hz matrices...\n",
      "Checking the CSS code is valid...\n",
      "<Unnamed CSS code>, (2,8)-[[32,2,nan]]\n",
      " -Block dimensions: Pass\n",
      " -PCMs commute hz@hx.T==0: Pass\n",
      " -PCMs commute hx@hz.T==0: Pass\n",
      " -lx \\in ker{hz} AND lz \\in ker{hx}: Pass\n",
      " -lx and lz anticommute: Pass\n",
      " -<Unnamed CSS code> is a valid CSS code w/ params (2,8)-[[32,2,nan]]\n"
     ]
    },
    {
     "name": "stderr",
     "output_type": "stream",
     "text": [
      "d_max: 32; OSDW_WER: 0±0%; OSDW: 0±0%; OSD0: 0±0%;: 100% 1000/1000 [00:01<00:00, 977.59it/s]\n"
     ]
    },
    {
     "name": "stdout",
     "output_type": "stream",
     "text": [
      "RNG Seed: 3\n",
      "Constructing CSS code from hx and hz matrices...\n",
      "Checking the CSS code is valid...\n",
      "<Unnamed CSS code>, (2,8)-[[32,2,nan]]\n",
      " -Block dimensions: Pass\n",
      " -PCMs commute hz@hx.T==0: Pass\n",
      " -PCMs commute hx@hz.T==0: Pass\n",
      " -lx \\in ker{hz} AND lz \\in ker{hx}: Pass\n",
      " -lx and lz anticommute: Pass\n",
      " -<Unnamed CSS code> is a valid CSS code w/ params (2,8)-[[32,2,nan]]\n"
     ]
    },
    {
     "name": "stderr",
     "output_type": "stream",
     "text": [
      "d_max: 32; OSDW_WER: 0±0%; OSDW: 0±0%; OSD0: 0±0%;: 100% 1000/1000 [00:01<00:00, 969.17it/s]\n"
     ]
    },
    {
     "name": "stdout",
     "output_type": "stream",
     "text": [
      "RNG Seed: 3\n",
      "Constructing CSS code from hx and hz matrices...\n",
      "Checking the CSS code is valid...\n",
      "<Unnamed CSS code>, (2,8)-[[32,2,nan]]\n",
      " -Block dimensions: Pass\n",
      " -PCMs commute hz@hx.T==0: Pass\n",
      " -PCMs commute hx@hz.T==0: Pass\n",
      " -lx \\in ker{hz} AND lz \\in ker{hx}: Pass\n",
      " -lx and lz anticommute: Pass\n",
      " -<Unnamed CSS code> is a valid CSS code w/ params (2,8)-[[32,2,nan]]\n"
     ]
    },
    {
     "name": "stderr",
     "output_type": "stream",
     "text": [
      "d_max: 8; OSDW_WER: 0.1±0.071%; OSDW: 0.2±0.14%; OSD0: 0.2±0.14%;: 100% 1000/1000 [00:01<00:00, 987.36it/s]       \n"
     ]
    },
    {
     "name": "stdout",
     "output_type": "stream",
     "text": [
      "RNG Seed: 3\n",
      "Constructing CSS code from hx and hz matrices...\n",
      "Checking the CSS code is valid...\n",
      "<Unnamed CSS code>, (2,8)-[[32,2,nan]]\n",
      " -Block dimensions: Pass\n",
      " -PCMs commute hz@hx.T==0: Pass\n",
      " -PCMs commute hx@hz.T==0: Pass\n",
      " -lx \\in ker{hz} AND lz \\in ker{hx}: Pass\n",
      " -lx and lz anticommute: Pass\n",
      " -<Unnamed CSS code> is a valid CSS code w/ params (2,8)-[[32,2,nan]]\n"
     ]
    },
    {
     "name": "stderr",
     "output_type": "stream",
     "text": [
      "d_max: 8; OSDW_WER: 0.351±0.13%; OSDW: 0.7±0.26%; OSD0: 0.7±0.26%;: 100% 1000/1000 [00:01<00:00, 956.08it/s]    \n"
     ]
    },
    {
     "name": "stdout",
     "output_type": "stream",
     "text": [
      "RNG Seed: 3\n",
      "Constructing CSS code from hx and hz matrices...\n",
      "Checking the CSS code is valid...\n",
      "<Unnamed CSS code>, (2,8)-[[32,2,nan]]\n",
      " -Block dimensions: Pass\n",
      " -PCMs commute hz@hx.T==0: Pass\n",
      " -PCMs commute hx@hz.T==0: Pass\n",
      " -lx \\in ker{hz} AND lz \\in ker{hx}: Pass\n",
      " -lx and lz anticommute: Pass\n",
      " -<Unnamed CSS code> is a valid CSS code w/ params (2,8)-[[32,2,nan]]\n"
     ]
    },
    {
     "name": "stderr",
     "output_type": "stream",
     "text": [
      "d_max: 8; OSDW_WER: 0.602±0.17%; OSDW: 1.2±0.34%; OSD0: 1.2±0.34%;: 100% 1000/1000 [00:01<00:00, 972.15it/s]    \n"
     ]
    },
    {
     "name": "stdout",
     "output_type": "stream",
     "text": [
      "RNG Seed: 3\n",
      "Constructing CSS code from hx and hz matrices...\n",
      "Checking the CSS code is valid...\n",
      "<Unnamed CSS code>, (2,8)-[[32,2,nan]]\n",
      " -Block dimensions: Pass\n",
      " -PCMs commute hz@hx.T==0: Pass\n",
      " -PCMs commute hx@hz.T==0: Pass\n",
      " -lx \\in ker{hz} AND lz \\in ker{hx}: Pass\n",
      " -lx and lz anticommute: Pass\n",
      " -<Unnamed CSS code> is a valid CSS code w/ params (2,8)-[[32,2,nan]]\n"
     ]
    },
    {
     "name": "stderr",
     "output_type": "stream",
     "text": [
      "d_max: 8; OSDW_WER: 1.11±0.23%; OSDW: 2.2±0.46%; OSD0: 2.2±0.46%;: 100% 1000/1000 [00:00<00:00, 1054.41it/s]   \n"
     ]
    },
    {
     "name": "stdout",
     "output_type": "stream",
     "text": [
      "RNG Seed: 3\n",
      "Constructing CSS code from hx and hz matrices...\n",
      "Checking the CSS code is valid...\n",
      "<Unnamed CSS code>, (2,8)-[[32,2,nan]]\n",
      " -Block dimensions: Pass\n",
      " -PCMs commute hz@hx.T==0: Pass\n",
      " -PCMs commute hx@hz.T==0: Pass\n",
      " -lx \\in ker{hz} AND lz \\in ker{hx}: Pass\n",
      " -lx and lz anticommute: Pass\n",
      " -<Unnamed CSS code> is a valid CSS code w/ params (2,8)-[[32,2,nan]]\n"
     ]
    },
    {
     "name": "stderr",
     "output_type": "stream",
     "text": [
      "d_max: 8; OSDW_WER: 1.41±0.26%; OSDW: 2.8±0.52%; OSD0: 2.8±0.52%;: 100% 1000/1000 [00:01<00:00, 935.09it/s]    \n"
     ]
    },
    {
     "name": "stdout",
     "output_type": "stream",
     "text": [
      "RNG Seed: 3\n",
      "Constructing CSS code from hx and hz matrices...\n",
      "Checking the CSS code is valid...\n",
      "<Unnamed CSS code>, (2,8)-[[32,2,nan]]\n",
      " -Block dimensions: Pass\n",
      " -PCMs commute hz@hx.T==0: Pass\n",
      " -PCMs commute hx@hz.T==0: Pass\n",
      " -lx \\in ker{hz} AND lz \\in ker{hx}: Pass\n",
      " -lx and lz anticommute: Pass\n",
      " -<Unnamed CSS code> is a valid CSS code w/ params (2,8)-[[32,2,nan]]\n"
     ]
    },
    {
     "name": "stderr",
     "output_type": "stream",
     "text": [
      "d_max: 8; OSDW_WER: 2.69±0.36%; OSDW: 5.3±0.71%; OSD0: 5.3±0.71%;: 100% 1000/1000 [00:00<00:00, 1033.07it/s] \n"
     ]
    },
    {
     "name": "stdout",
     "output_type": "stream",
     "text": [
      "RNG Seed: 3\n",
      "Constructing CSS code from hx and hz matrices...\n",
      "Checking the CSS code is valid...\n",
      "<Unnamed CSS code>, (2,8)-[[32,2,nan]]\n",
      " -Block dimensions: Pass\n",
      " -PCMs commute hz@hx.T==0: Pass\n",
      " -PCMs commute hx@hz.T==0: Pass\n",
      " -lx \\in ker{hz} AND lz \\in ker{hx}: Pass\n",
      " -lx and lz anticommute: Pass\n",
      " -<Unnamed CSS code> is a valid CSS code w/ params (2,8)-[[32,2,nan]]\n"
     ]
    },
    {
     "name": "stderr",
     "output_type": "stream",
     "text": [
      "d_max: 8; OSDW_WER: 3.77±0.42%; OSDW: 7.4±0.83%; OSD0: 7.4±0.83%;: 100% 1000/1000 [00:00<00:00, 1121.97it/s] \n"
     ]
    },
    {
     "name": "stdout",
     "output_type": "stream",
     "text": [
      "RNG Seed: 3\n",
      "Constructing CSS code from hx and hz matrices...\n",
      "Checking the CSS code is valid...\n",
      "<Unnamed CSS code>, (2,8)-[[32,2,nan]]\n",
      " -Block dimensions: Pass\n",
      " -PCMs commute hz@hx.T==0: Pass\n",
      " -PCMs commute hx@hz.T==0: Pass\n",
      " -lx \\in ker{hz} AND lz \\in ker{hx}: Pass\n",
      " -lx and lz anticommute: Pass\n",
      " -<Unnamed CSS code> is a valid CSS code w/ params (2,8)-[[32,2,nan]]\n"
     ]
    },
    {
     "name": "stderr",
     "output_type": "stream",
     "text": [
      "d_max: 8; OSDW_WER: 4.76±0.46%; OSDW: 9.3±0.92%; OSD0: 9.3±0.92%;: 100% 1000/1000 [00:00<00:00, 1034.92it/s] \n"
     ]
    },
    {
     "name": "stdout",
     "output_type": "stream",
     "text": [
      "RNG Seed: 3\n",
      "Constructing CSS code from hx and hz matrices...\n",
      "Checking the CSS code is valid...\n",
      "<Unnamed CSS code>, (2,8)-[[32,2,nan]]\n",
      " -Block dimensions: Pass\n",
      " -PCMs commute hz@hx.T==0: Pass\n",
      " -PCMs commute hx@hz.T==0: Pass\n",
      " -lx \\in ker{hz} AND lz \\in ker{hx}: Pass\n",
      " -lx and lz anticommute: Pass\n",
      " -<Unnamed CSS code> is a valid CSS code w/ params (2,8)-[[32,2,nan]]\n"
     ]
    },
    {
     "name": "stderr",
     "output_type": "stream",
     "text": [
      "d_max: 8; OSDW_WER: 6.62±0.53%; OSDW: 12.8±1.1%; OSD0: 12.8±1.1%;: 100% 1000/1000 [00:01<00:00, 774.32it/s]\n"
     ]
    },
    {
     "name": "stdout",
     "output_type": "stream",
     "text": [
      "RNG Seed: 3\n",
      "Constructing CSS code from hx and hz matrices...\n",
      "Checking the CSS code is valid...\n",
      "<Unnamed CSS code>, (2,8)-[[32,2,nan]]\n",
      " -Block dimensions: Pass\n",
      " -PCMs commute hz@hx.T==0: Pass\n",
      " -PCMs commute hx@hz.T==0: Pass\n",
      " -lx \\in ker{hz} AND lz \\in ker{hx}: Pass\n",
      " -lx and lz anticommute: Pass\n",
      " -<Unnamed CSS code> is a valid CSS code w/ params (2,8)-[[32,2,nan]]\n"
     ]
    },
    {
     "name": "stderr",
     "output_type": "stream",
     "text": [
      "d_max: 8; OSDW_WER: 7.26±0.55%; OSDW: 14±1.1%; OSD0: 14±1.1%;: 100% 1000/1000 [00:01<00:00, 825.04it/s]   \n"
     ]
    },
    {
     "name": "stdout",
     "output_type": "stream",
     "text": [
      "RNG Seed: 3\n",
      "Constructing CSS code from hx and hz matrices...\n",
      "Checking the CSS code is valid...\n",
      "<Unnamed CSS code>, (2,8)-[[32,2,nan]]\n",
      " -Block dimensions: Pass\n",
      " -PCMs commute hz@hx.T==0: Pass\n",
      " -PCMs commute hx@hz.T==0: Pass\n",
      " -lx \\in ker{hz} AND lz \\in ker{hx}: Pass\n",
      " -lx and lz anticommute: Pass\n",
      " -<Unnamed CSS code> is a valid CSS code w/ params (2,8)-[[32,2,nan]]\n"
     ]
    },
    {
     "name": "stderr",
     "output_type": "stream",
     "text": [
      "d_max: 8; OSDW_WER: 9.5±0.61%; OSDW: 18.1±1.2%; OSD0: 18.1±1.2%;: 100% 1000/1000 [00:01<00:00, 902.58it/s]\n"
     ]
    },
    {
     "name": "stdout",
     "output_type": "stream",
     "text": [
      "RNG Seed: 3\n",
      "Constructing CSS code from hx and hz matrices...\n",
      "Checking the CSS code is valid...\n",
      "<Unnamed CSS code>, (2,8)-[[32,2,nan]]\n",
      " -Block dimensions: Pass\n",
      " -PCMs commute hz@hx.T==0: Pass\n",
      " -PCMs commute hx@hz.T==0: Pass\n",
      " -lx \\in ker{hz} AND lz \\in ker{hx}: Pass\n",
      " -lx and lz anticommute: Pass\n",
      " -<Unnamed CSS code> is a valid CSS code w/ params (2,8)-[[32,2,nan]]\n"
     ]
    },
    {
     "name": "stderr",
     "output_type": "stream",
     "text": [
      "d_max: 8; OSDW_WER: 10.6±0.64%; OSDW: 20.1±1.3%; OSD0: 20.1±1.3%;: 100% 1000/1000 [00:01<00:00, 961.20it/s]\n"
     ]
    },
    {
     "name": "stdout",
     "output_type": "stream",
     "text": [
      "RNG Seed: 3\n",
      "Constructing CSS code from hx and hz matrices...\n",
      "Checking the CSS code is valid...\n",
      "<Unnamed CSS code>, (2,8)-[[32,2,nan]]\n",
      " -Block dimensions: Pass\n",
      " -PCMs commute hz@hx.T==0: Pass\n",
      " -PCMs commute hx@hz.T==0: Pass\n",
      " -lx \\in ker{hz} AND lz \\in ker{hx}: Pass\n",
      " -lx and lz anticommute: Pass\n",
      " -<Unnamed CSS code> is a valid CSS code w/ params (2,8)-[[32,2,nan]]\n"
     ]
    },
    {
     "name": "stderr",
     "output_type": "stream",
     "text": [
      "d_max: 8; OSDW_WER: 12.6±0.68%; OSDW: 23.6±1.3%; OSD0: 23.6±1.3%;: 100% 1000/1000 [00:01<00:00, 876.85it/s]\n"
     ]
    },
    {
     "name": "stdout",
     "output_type": "stream",
     "text": [
      "RNG Seed: 3\n",
      "Constructing CSS code from hx and hz matrices...\n",
      "Checking the CSS code is valid...\n",
      "<Unnamed CSS code>, (2,8)-[[32,2,nan]]\n",
      " -Block dimensions: Pass\n",
      " -PCMs commute hz@hx.T==0: Pass\n",
      " -PCMs commute hx@hz.T==0: Pass\n",
      " -lx \\in ker{hz} AND lz \\in ker{hx}: Pass\n",
      " -lx and lz anticommute: Pass\n",
      " -<Unnamed CSS code> is a valid CSS code w/ params (2,8)-[[32,2,nan]]\n"
     ]
    },
    {
     "name": "stderr",
     "output_type": "stream",
     "text": [
      "d_max: 8; OSDW_WER: 15.1±0.71%; OSDW: 27.9±1.4%; OSD0: 27.9±1.4%;: 100% 1000/1000 [00:00<00:00, 1034.06it/s]\n"
     ]
    },
    {
     "name": "stdout",
     "output_type": "stream",
     "text": [
      "RNG Seed: 3\n",
      "Constructing CSS code from hx and hz matrices...\n",
      "Checking the CSS code is valid...\n",
      "<Unnamed CSS code>, (2,8)-[[32,2,nan]]\n",
      " -Block dimensions: Pass\n",
      " -PCMs commute hz@hx.T==0: Pass\n",
      " -PCMs commute hx@hz.T==0: Pass\n",
      " -lx \\in ker{hz} AND lz \\in ker{hx}: Pass\n",
      " -lx and lz anticommute: Pass\n",
      " -<Unnamed CSS code> is a valid CSS code w/ params (2,8)-[[32,2,nan]]\n"
     ]
    },
    {
     "name": "stderr",
     "output_type": "stream",
     "text": [
      "d_max: 8; OSDW_WER: 17.7±0.74%; OSDW: 32.3±1.5%; OSD0: 32.3±1.5%;: 100% 1000/1000 [00:00<00:00, 1051.16it/s]\n"
     ]
    },
    {
     "name": "stdout",
     "output_type": "stream",
     "text": [
      "RNG Seed: 3\n",
      "Constructing CSS code from hx and hz matrices...\n",
      "Checking the CSS code is valid...\n",
      "<Unnamed CSS code>, (2,8)-[[32,2,nan]]\n",
      " -Block dimensions: Pass\n",
      " -PCMs commute hz@hx.T==0: Pass\n",
      " -PCMs commute hx@hz.T==0: Pass\n",
      " -lx \\in ker{hz} AND lz \\in ker{hx}: Pass\n",
      " -lx and lz anticommute: Pass\n",
      " -<Unnamed CSS code> is a valid CSS code w/ params (2,8)-[[32,2,nan]]\n"
     ]
    },
    {
     "name": "stderr",
     "output_type": "stream",
     "text": [
      "d_max: 8; OSDW_WER: 19.7±0.76%; OSDW: 35.5±1.5%; OSD0: 35.5±1.5%;: 100% 1000/1000 [00:00<00:00, 1071.67it/s]\n"
     ]
    }
   ],
   "source": [
    "lk2_array = surface_code_with_edge_augmentation(2,values)"
   ]
  },
  {
   "cell_type": "code",
   "execution_count": 8,
   "metadata": {},
   "outputs": [
    {
     "name": "stdout",
     "output_type": "stream",
     "text": [
      "RNG Seed: 3\n",
      "Constructing CSS code from hx and hz matrices...\n",
      "Checking the CSS code is valid...\n",
      "<Unnamed CSS code>, (2,8)-[[128,2,nan]]\n",
      " -Block dimensions: Pass\n",
      " -PCMs commute hz@hx.T==0: Pass\n",
      " -PCMs commute hx@hz.T==0: Pass\n",
      " -lx \\in ker{hz} AND lz \\in ker{hx}: Pass\n",
      " -lx and lz anticommute: Pass\n",
      " -<Unnamed CSS code> is a valid CSS code w/ params (2,8)-[[128,2,nan]]\n"
     ]
    },
    {
     "name": "stderr",
     "output_type": "stream",
     "text": [
      "d_max: 128; OSDW_WER: 0±0%; OSDW: 0±0%; OSD0: 0±0%;: 100% 1000/1000 [00:01<00:00, 703.06it/s]\n"
     ]
    },
    {
     "name": "stdout",
     "output_type": "stream",
     "text": [
      "RNG Seed: 3\n",
      "Constructing CSS code from hx and hz matrices...\n",
      "Checking the CSS code is valid...\n",
      "<Unnamed CSS code>, (2,8)-[[128,2,nan]]\n",
      " -Block dimensions: Pass\n",
      " -PCMs commute hz@hx.T==0: Pass\n",
      " -PCMs commute hx@hz.T==0: Pass\n",
      " -lx \\in ker{hz} AND lz \\in ker{hx}: Pass\n",
      " -lx and lz anticommute: Pass\n",
      " -<Unnamed CSS code> is a valid CSS code w/ params (2,8)-[[128,2,nan]]\n"
     ]
    },
    {
     "name": "stderr",
     "output_type": "stream",
     "text": [
      "d_max: 128; OSDW_WER: 0±0%; OSDW: 0±0%; OSD0: 0±0%;: 100% 1000/1000 [00:01<00:00, 704.11it/s]\n"
     ]
    },
    {
     "name": "stdout",
     "output_type": "stream",
     "text": [
      "RNG Seed: 3\n",
      "Constructing CSS code from hx and hz matrices...\n",
      "Checking the CSS code is valid...\n",
      "<Unnamed CSS code>, (2,8)-[[128,2,nan]]\n",
      " -Block dimensions: Pass\n",
      " -PCMs commute hz@hx.T==0: Pass\n",
      " -PCMs commute hx@hz.T==0: Pass\n",
      " -lx \\in ker{hz} AND lz \\in ker{hx}: Pass\n",
      " -lx and lz anticommute: Pass\n",
      " -<Unnamed CSS code> is a valid CSS code w/ params (2,8)-[[128,2,nan]]\n"
     ]
    },
    {
     "name": "stderr",
     "output_type": "stream",
     "text": [
      "d_max: 128; OSDW_WER: 0±0%; OSDW: 0±0%; OSD0: 0±0%;: 100% 1000/1000 [00:01<00:00, 711.16it/s]\n"
     ]
    },
    {
     "name": "stdout",
     "output_type": "stream",
     "text": [
      "RNG Seed: 3\n",
      "Constructing CSS code from hx and hz matrices...\n",
      "Checking the CSS code is valid...\n",
      "<Unnamed CSS code>, (2,8)-[[128,2,nan]]\n",
      " -Block dimensions: Pass\n",
      " -PCMs commute hz@hx.T==0: Pass\n",
      " -PCMs commute hx@hz.T==0: Pass\n",
      " -lx \\in ker{hz} AND lz \\in ker{hx}: Pass\n",
      " -lx and lz anticommute: Pass\n",
      " -<Unnamed CSS code> is a valid CSS code w/ params (2,8)-[[128,2,nan]]\n"
     ]
    },
    {
     "name": "stderr",
     "output_type": "stream",
     "text": [
      "d_max: 128; OSDW_WER: 0±0%; OSDW: 0±0%; OSD0: 0±0%;: 100% 1000/1000 [00:01<00:00, 733.14it/s]\n"
     ]
    },
    {
     "name": "stdout",
     "output_type": "stream",
     "text": [
      "RNG Seed: 3\n",
      "Constructing CSS code from hx and hz matrices...\n",
      "Checking the CSS code is valid...\n",
      "<Unnamed CSS code>, (2,8)-[[128,2,nan]]\n",
      " -Block dimensions: Pass\n",
      " -PCMs commute hz@hx.T==0: Pass\n",
      " -PCMs commute hx@hz.T==0: Pass\n",
      " -lx \\in ker{hz} AND lz \\in ker{hx}: Pass\n",
      " -lx and lz anticommute: Pass\n",
      " -<Unnamed CSS code> is a valid CSS code w/ params (2,8)-[[128,2,nan]]\n"
     ]
    },
    {
     "name": "stderr",
     "output_type": "stream",
     "text": [
      "d_max: 128; OSDW_WER: 0±0%; OSDW: 0±0%; OSD0: 0±0%;: 100% 1000/1000 [00:01<00:00, 731.37it/s]\n"
     ]
    },
    {
     "name": "stdout",
     "output_type": "stream",
     "text": [
      "RNG Seed: 3\n",
      "Constructing CSS code from hx and hz matrices...\n",
      "Checking the CSS code is valid...\n",
      "<Unnamed CSS code>, (2,8)-[[128,2,nan]]\n",
      " -Block dimensions: Pass\n",
      " -PCMs commute hz@hx.T==0: Pass\n",
      " -PCMs commute hx@hz.T==0: Pass\n",
      " -lx \\in ker{hz} AND lz \\in ker{hx}: Pass\n",
      " -lx and lz anticommute: Pass\n",
      " -<Unnamed CSS code> is a valid CSS code w/ params (2,8)-[[128,2,nan]]\n"
     ]
    },
    {
     "name": "stderr",
     "output_type": "stream",
     "text": [
      "d_max: 128; OSDW_WER: 0±0%; OSDW: 0±0%; OSD0: 0±0%;: 100% 1000/1000 [00:01<00:00, 818.22it/s]\n"
     ]
    },
    {
     "name": "stdout",
     "output_type": "stream",
     "text": [
      "RNG Seed: 3\n",
      "Constructing CSS code from hx and hz matrices...\n",
      "Checking the CSS code is valid...\n",
      "<Unnamed CSS code>, (2,8)-[[128,2,nan]]\n",
      " -Block dimensions: Pass\n",
      " -PCMs commute hz@hx.T==0: Pass\n",
      " -PCMs commute hx@hz.T==0: Pass\n",
      " -lx \\in ker{hz} AND lz \\in ker{hx}: Pass\n",
      " -lx and lz anticommute: Pass\n",
      " -<Unnamed CSS code> is a valid CSS code w/ params (2,8)-[[128,2,nan]]\n"
     ]
    },
    {
     "name": "stderr",
     "output_type": "stream",
     "text": [
      "d_max: 128; OSDW_WER: 0±0%; OSDW: 0±0%; OSD0: 0±0%;: 100% 1000/1000 [00:01<00:00, 778.14it/s]\n"
     ]
    },
    {
     "name": "stdout",
     "output_type": "stream",
     "text": [
      "RNG Seed: 3\n",
      "Constructing CSS code from hx and hz matrices...\n",
      "Checking the CSS code is valid...\n",
      "<Unnamed CSS code>, (2,8)-[[128,2,nan]]\n",
      " -Block dimensions: Pass\n",
      " -PCMs commute hz@hx.T==0: Pass\n",
      " -PCMs commute hx@hz.T==0: Pass\n",
      " -lx \\in ker{hz} AND lz \\in ker{hx}: Pass\n",
      " -lx and lz anticommute: Pass\n",
      " -<Unnamed CSS code> is a valid CSS code w/ params (2,8)-[[128,2,nan]]\n"
     ]
    },
    {
     "name": "stderr",
     "output_type": "stream",
     "text": [
      "d_max: 128; OSDW_WER: 0±0%; OSDW: 0±0%; OSD0: 0±0%;: 100% 1000/1000 [00:01<00:00, 797.50it/s]\n"
     ]
    },
    {
     "name": "stdout",
     "output_type": "stream",
     "text": [
      "RNG Seed: 3\n",
      "Constructing CSS code from hx and hz matrices...\n",
      "Checking the CSS code is valid...\n",
      "<Unnamed CSS code>, (2,8)-[[128,2,nan]]\n",
      " -Block dimensions: Pass\n",
      " -PCMs commute hz@hx.T==0: Pass\n",
      " -PCMs commute hx@hz.T==0: Pass\n",
      " -lx \\in ker{hz} AND lz \\in ker{hx}: Pass\n",
      " -lx and lz anticommute: Pass\n",
      " -<Unnamed CSS code> is a valid CSS code w/ params (2,8)-[[128,2,nan]]\n"
     ]
    },
    {
     "name": "stderr",
     "output_type": "stream",
     "text": [
      "d_max: 16; OSDW_WER: 0.2±0.1%; OSDW: 0.4±0.2%; OSD0: 0.4±0.2%;: 100% 1000/1000 [00:01<00:00, 783.87it/s]         \n"
     ]
    },
    {
     "name": "stdout",
     "output_type": "stream",
     "text": [
      "RNG Seed: 3\n",
      "Constructing CSS code from hx and hz matrices...\n",
      "Checking the CSS code is valid...\n",
      "<Unnamed CSS code>, (2,8)-[[128,2,nan]]\n",
      " -Block dimensions: Pass\n",
      " -PCMs commute hz@hx.T==0: Pass\n",
      " -PCMs commute hx@hz.T==0: Pass\n",
      " -lx \\in ker{hz} AND lz \\in ker{hx}: Pass\n",
      " -lx and lz anticommute: Pass\n",
      " -<Unnamed CSS code> is a valid CSS code w/ params (2,8)-[[128,2,nan]]\n"
     ]
    },
    {
     "name": "stderr",
     "output_type": "stream",
     "text": [
      "d_max: 16; OSDW_WER: 0.602±0.17%; OSDW: 1.2±0.34%; OSD0: 1.2±0.34%;: 100% 1000/1000 [00:01<00:00, 721.85it/s]   \n"
     ]
    },
    {
     "name": "stdout",
     "output_type": "stream",
     "text": [
      "RNG Seed: 3\n",
      "Constructing CSS code from hx and hz matrices...\n",
      "Checking the CSS code is valid...\n",
      "<Unnamed CSS code>, (2,8)-[[128,2,nan]]\n",
      " -Block dimensions: Pass\n",
      " -PCMs commute hz@hx.T==0: Pass\n",
      " -PCMs commute hx@hz.T==0: Pass\n",
      " -lx \\in ker{hz} AND lz \\in ker{hx}: Pass\n",
      " -lx and lz anticommute: Pass\n",
      " -<Unnamed CSS code> is a valid CSS code w/ params (2,8)-[[128,2,nan]]\n"
     ]
    },
    {
     "name": "stderr",
     "output_type": "stream",
     "text": [
      "d_max: 16; OSDW_WER: 0.904±0.21%; OSDW: 1.8±0.42%; OSD0: 1.8±0.42%;: 100% 1000/1000 [00:01<00:00, 789.23it/s] \n"
     ]
    },
    {
     "name": "stdout",
     "output_type": "stream",
     "text": [
      "RNG Seed: 3\n",
      "Constructing CSS code from hx and hz matrices...\n",
      "Checking the CSS code is valid...\n",
      "<Unnamed CSS code>, (2,8)-[[128,2,nan]]\n",
      " -Block dimensions: Pass\n",
      " -PCMs commute hz@hx.T==0: Pass\n",
      " -PCMs commute hx@hz.T==0: Pass\n",
      " -lx \\in ker{hz} AND lz \\in ker{hx}: Pass\n",
      " -lx and lz anticommute: Pass\n",
      " -<Unnamed CSS code> is a valid CSS code w/ params (2,8)-[[128,2,nan]]\n"
     ]
    },
    {
     "name": "stderr",
     "output_type": "stream",
     "text": [
      "d_max: 16; OSDW_WER: 1.97±0.31%; OSDW: 3.9±0.61%; OSD0: 3.9±0.61%;: 100% 1000/1000 [00:01<00:00, 617.34it/s] \n"
     ]
    },
    {
     "name": "stdout",
     "output_type": "stream",
     "text": [
      "RNG Seed: 3\n",
      "Constructing CSS code from hx and hz matrices...\n",
      "Checking the CSS code is valid...\n",
      "<Unnamed CSS code>, (2,8)-[[128,2,nan]]\n",
      " -Block dimensions: Pass\n",
      " -PCMs commute hz@hx.T==0: Pass\n",
      " -PCMs commute hx@hz.T==0: Pass\n",
      " -lx \\in ker{hz} AND lz \\in ker{hx}: Pass\n",
      " -lx and lz anticommute: Pass\n",
      " -<Unnamed CSS code> is a valid CSS code w/ params (2,8)-[[128,2,nan]]\n"
     ]
    },
    {
     "name": "stderr",
     "output_type": "stream",
     "text": [
      "d_max: 16; OSDW_WER: 3.56±0.41%; OSDW: 7±0.81%; OSD0: 7±0.81%;: 100% 1000/1000 [00:01<00:00, 734.85it/s]     \n"
     ]
    },
    {
     "name": "stdout",
     "output_type": "stream",
     "text": [
      "RNG Seed: 3\n",
      "Constructing CSS code from hx and hz matrices...\n",
      "Checking the CSS code is valid...\n",
      "<Unnamed CSS code>, (2,8)-[[128,2,nan]]\n",
      " -Block dimensions: Pass\n",
      " -PCMs commute hz@hx.T==0: Pass\n",
      " -PCMs commute hx@hz.T==0: Pass\n",
      " -lx \\in ker{hz} AND lz \\in ker{hx}: Pass\n",
      " -lx and lz anticommute: Pass\n",
      " -<Unnamed CSS code> is a valid CSS code w/ params (2,8)-[[128,2,nan]]\n"
     ]
    },
    {
     "name": "stderr",
     "output_type": "stream",
     "text": [
      "d_max: 16; OSDW_WER: 4.34±0.44%; OSDW: 8.5±0.88%; OSD0: 8.5±0.88%;: 100% 1000/1000 [00:01<00:00, 790.13it/s] \n"
     ]
    },
    {
     "name": "stdout",
     "output_type": "stream",
     "text": [
      "RNG Seed: 3\n",
      "Constructing CSS code from hx and hz matrices...\n",
      "Checking the CSS code is valid...\n",
      "<Unnamed CSS code>, (2,8)-[[128,2,nan]]\n",
      " -Block dimensions: Pass\n",
      " -PCMs commute hz@hx.T==0: Pass\n",
      " -PCMs commute hx@hz.T==0: Pass\n",
      " -lx \\in ker{hz} AND lz \\in ker{hx}: Pass\n",
      " -lx and lz anticommute: Pass\n",
      " -<Unnamed CSS code> is a valid CSS code w/ params (2,8)-[[128,2,nan]]\n"
     ]
    },
    {
     "name": "stderr",
     "output_type": "stream",
     "text": [
      "d_max: 16; OSDW_WER: 6.41±0.52%; OSDW: 12.4±1%; OSD0: 12.4±1%;: 100% 1000/1000 [00:01<00:00, 696.78it/s]   \n"
     ]
    },
    {
     "name": "stdout",
     "output_type": "stream",
     "text": [
      "RNG Seed: 3\n",
      "Constructing CSS code from hx and hz matrices...\n",
      "Checking the CSS code is valid...\n",
      "<Unnamed CSS code>, (2,8)-[[128,2,nan]]\n",
      " -Block dimensions: Pass\n",
      " -PCMs commute hz@hx.T==0: Pass\n",
      " -PCMs commute hx@hz.T==0: Pass\n",
      " -lx \\in ker{hz} AND lz \\in ker{hx}: Pass\n",
      " -lx and lz anticommute: Pass\n",
      " -<Unnamed CSS code> is a valid CSS code w/ params (2,8)-[[128,2,nan]]\n"
     ]
    },
    {
     "name": "stderr",
     "output_type": "stream",
     "text": [
      "d_max: 16; OSDW_WER: 7.8±0.57%; OSDW: 15±1.1%; OSD0: 15±1.1%;: 100% 1000/1000 [00:01<00:00, 694.57it/s]    \n"
     ]
    },
    {
     "name": "stdout",
     "output_type": "stream",
     "text": [
      "RNG Seed: 3\n",
      "Constructing CSS code from hx and hz matrices...\n",
      "Checking the CSS code is valid...\n",
      "<Unnamed CSS code>, (2,8)-[[128,2,nan]]\n",
      " -Block dimensions: Pass\n",
      " -PCMs commute hz@hx.T==0: Pass\n",
      " -PCMs commute hx@hz.T==0: Pass\n",
      " -lx \\in ker{hz} AND lz \\in ker{hx}: Pass\n",
      " -lx and lz anticommute: Pass\n",
      " -<Unnamed CSS code> is a valid CSS code w/ params (2,8)-[[128,2,nan]]\n"
     ]
    },
    {
     "name": "stderr",
     "output_type": "stream",
     "text": [
      "d_max: 16; OSDW_WER: 10.7±0.64%; OSDW: 20.3±1.3%; OSD0: 20.3±1.3%;: 100% 1000/1000 [00:01<00:00, 616.63it/s]\n"
     ]
    },
    {
     "name": "stdout",
     "output_type": "stream",
     "text": [
      "RNG Seed: 3\n",
      "Constructing CSS code from hx and hz matrices...\n",
      "Checking the CSS code is valid...\n",
      "<Unnamed CSS code>, (2,8)-[[128,2,nan]]\n",
      " -Block dimensions: Pass\n",
      " -PCMs commute hz@hx.T==0: Pass\n",
      " -PCMs commute hx@hz.T==0: Pass\n",
      " -lx \\in ker{hz} AND lz \\in ker{hx}: Pass\n",
      " -lx and lz anticommute: Pass\n",
      " -<Unnamed CSS code> is a valid CSS code w/ params (2,8)-[[128,2,nan]]\n"
     ]
    },
    {
     "name": "stderr",
     "output_type": "stream",
     "text": [
      "d_max: 16; OSDW_WER: 15.4±0.72%; OSDW: 28.5±1.4%; OSD0: 28.5±1.4%;: 100% 1000/1000 [00:01<00:00, 709.07it/s]\n"
     ]
    },
    {
     "name": "stdout",
     "output_type": "stream",
     "text": [
      "RNG Seed: 3\n",
      "Constructing CSS code from hx and hz matrices...\n",
      "Checking the CSS code is valid...\n",
      "<Unnamed CSS code>, (2,8)-[[128,2,nan]]\n",
      " -Block dimensions: Pass\n",
      " -PCMs commute hz@hx.T==0: Pass\n",
      " -PCMs commute hx@hz.T==0: Pass\n",
      " -lx \\in ker{hz} AND lz \\in ker{hx}: Pass\n",
      " -lx and lz anticommute: Pass\n",
      " -<Unnamed CSS code> is a valid CSS code w/ params (2,8)-[[128,2,nan]]\n"
     ]
    },
    {
     "name": "stderr",
     "output_type": "stream",
     "text": [
      "d_max: 16; OSDW_WER: 18.2±0.75%; OSDW: 33.1±1.5%; OSD0: 33.1±1.5%;: 100% 1000/1000 [00:01<00:00, 659.02it/s]\n"
     ]
    },
    {
     "name": "stdout",
     "output_type": "stream",
     "text": [
      "RNG Seed: 3\n",
      "Constructing CSS code from hx and hz matrices...\n",
      "Checking the CSS code is valid...\n",
      "<Unnamed CSS code>, (2,8)-[[128,2,nan]]\n",
      " -Block dimensions: Pass\n",
      " -PCMs commute hz@hx.T==0: Pass\n",
      " -PCMs commute hx@hz.T==0: Pass\n",
      " -lx \\in ker{hz} AND lz \\in ker{hx}: Pass\n",
      " -lx and lz anticommute: Pass\n",
      " -<Unnamed CSS code> is a valid CSS code w/ params (2,8)-[[128,2,nan]]\n"
     ]
    },
    {
     "name": "stderr",
     "output_type": "stream",
     "text": [
      "d_max: 16; OSDW_WER: 22.2±0.78%; OSDW: 39.4±1.5%; OSD0: 39.4±1.5%;: 100% 1000/1000 [00:01<00:00, 564.56it/s]\n"
     ]
    }
   ],
   "source": [
    "lk3_array = surface_code_with_edge_augmentation(3,values)"
   ]
  },
  {
   "cell_type": "code",
   "execution_count": 9,
   "metadata": {},
   "outputs": [
    {
     "name": "stdout",
     "output_type": "stream",
     "text": [
      "RNG Seed: 3\n",
      "Constructing CSS code from hx and hz matrices...\n",
      "Checking the CSS code is valid...\n",
      "<Unnamed CSS code>, (2,8)-[[512,2,nan]]\n",
      " -Block dimensions: Pass\n",
      " -PCMs commute hz@hx.T==0: Pass\n",
      " -PCMs commute hx@hz.T==0: Pass\n",
      " -lx \\in ker{hz} AND lz \\in ker{hx}: Pass\n",
      " -lx and lz anticommute: Pass\n",
      " -<Unnamed CSS code> is a valid CSS code w/ params (2,8)-[[512,2,nan]]\n"
     ]
    },
    {
     "name": "stderr",
     "output_type": "stream",
     "text": [
      "d_max: 512; OSDW_WER: 0±0%; OSDW: 0±0%; OSD0: 0±0%;: 100% 1000/1000 [00:03<00:00, 302.05it/s]\n"
     ]
    },
    {
     "name": "stdout",
     "output_type": "stream",
     "text": [
      "RNG Seed: 3\n",
      "Constructing CSS code from hx and hz matrices...\n",
      "Checking the CSS code is valid...\n",
      "<Unnamed CSS code>, (2,8)-[[512,2,nan]]\n",
      " -Block dimensions: Pass\n",
      " -PCMs commute hz@hx.T==0: Pass\n",
      " -PCMs commute hx@hz.T==0: Pass\n",
      " -lx \\in ker{hz} AND lz \\in ker{hx}: Pass\n",
      " -lx and lz anticommute: Pass\n",
      " -<Unnamed CSS code> is a valid CSS code w/ params (2,8)-[[512,2,nan]]\n"
     ]
    },
    {
     "name": "stderr",
     "output_type": "stream",
     "text": [
      "d_max: 512; OSDW_WER: 0±0%; OSDW: 0±0%; OSD0: 0±0%;: 100% 1000/1000 [00:03<00:00, 304.43it/s]\n"
     ]
    },
    {
     "name": "stdout",
     "output_type": "stream",
     "text": [
      "RNG Seed: 3\n",
      "Constructing CSS code from hx and hz matrices...\n",
      "Checking the CSS code is valid...\n",
      "<Unnamed CSS code>, (2,8)-[[512,2,nan]]\n",
      " -Block dimensions: Pass\n",
      " -PCMs commute hz@hx.T==0: Pass\n",
      " -PCMs commute hx@hz.T==0: Pass\n",
      " -lx \\in ker{hz} AND lz \\in ker{hx}: Pass\n",
      " -lx and lz anticommute: Pass\n",
      " -<Unnamed CSS code> is a valid CSS code w/ params (2,8)-[[512,2,nan]]\n"
     ]
    },
    {
     "name": "stderr",
     "output_type": "stream",
     "text": [
      "d_max: 512; OSDW_WER: 0±0%; OSDW: 0±0%; OSD0: 0±0%;: 100% 1000/1000 [00:03<00:00, 272.17it/s]\n"
     ]
    },
    {
     "name": "stdout",
     "output_type": "stream",
     "text": [
      "RNG Seed: 3\n",
      "Constructing CSS code from hx and hz matrices...\n",
      "Checking the CSS code is valid...\n",
      "<Unnamed CSS code>, (2,8)-[[512,2,nan]]\n",
      " -Block dimensions: Pass\n",
      " -PCMs commute hz@hx.T==0: Pass\n",
      " -PCMs commute hx@hz.T==0: Pass\n",
      " -lx \\in ker{hz} AND lz \\in ker{hx}: Pass\n",
      " -lx and lz anticommute: Pass\n",
      " -<Unnamed CSS code> is a valid CSS code w/ params (2,8)-[[512,2,nan]]\n"
     ]
    },
    {
     "name": "stderr",
     "output_type": "stream",
     "text": [
      "d_max: 512; OSDW_WER: 0±0%; OSDW: 0±0%; OSD0: 0±0%;: 100% 1000/1000 [00:03<00:00, 299.40it/s]\n"
     ]
    },
    {
     "name": "stdout",
     "output_type": "stream",
     "text": [
      "RNG Seed: 3\n",
      "Constructing CSS code from hx and hz matrices...\n",
      "Checking the CSS code is valid...\n",
      "<Unnamed CSS code>, (2,8)-[[512,2,nan]]\n",
      " -Block dimensions: Pass\n",
      " -PCMs commute hz@hx.T==0: Pass\n",
      " -PCMs commute hx@hz.T==0: Pass\n",
      " -lx \\in ker{hz} AND lz \\in ker{hx}: Pass\n",
      " -lx and lz anticommute: Pass\n",
      " -<Unnamed CSS code> is a valid CSS code w/ params (2,8)-[[512,2,nan]]\n"
     ]
    },
    {
     "name": "stderr",
     "output_type": "stream",
     "text": [
      "d_max: 512; OSDW_WER: 0±0%; OSDW: 0±0%; OSD0: 0±0%;: 100% 1000/1000 [00:03<00:00, 291.57it/s]\n"
     ]
    },
    {
     "name": "stdout",
     "output_type": "stream",
     "text": [
      "RNG Seed: 3\n",
      "Constructing CSS code from hx and hz matrices...\n",
      "Checking the CSS code is valid...\n",
      "<Unnamed CSS code>, (2,8)-[[512,2,nan]]\n",
      " -Block dimensions: Pass\n",
      " -PCMs commute hz@hx.T==0: Pass\n",
      " -PCMs commute hx@hz.T==0: Pass\n",
      " -lx \\in ker{hz} AND lz \\in ker{hx}: Pass\n",
      " -lx and lz anticommute: Pass\n",
      " -<Unnamed CSS code> is a valid CSS code w/ params (2,8)-[[512,2,nan]]\n"
     ]
    },
    {
     "name": "stderr",
     "output_type": "stream",
     "text": [
      "d_max: 512; OSDW_WER: 0±0%; OSDW: 0±0%; OSD0: 0±0%;: 100% 1000/1000 [00:03<00:00, 267.30it/s]\n"
     ]
    },
    {
     "name": "stdout",
     "output_type": "stream",
     "text": [
      "RNG Seed: 3\n",
      "Constructing CSS code from hx and hz matrices...\n",
      "Checking the CSS code is valid...\n",
      "<Unnamed CSS code>, (2,8)-[[512,2,nan]]\n",
      " -Block dimensions: Pass\n",
      " -PCMs commute hz@hx.T==0: Pass\n",
      " -PCMs commute hx@hz.T==0: Pass\n",
      " -lx \\in ker{hz} AND lz \\in ker{hx}: Pass\n",
      " -lx and lz anticommute: Pass\n",
      " -<Unnamed CSS code> is a valid CSS code w/ params (2,8)-[[512,2,nan]]\n"
     ]
    },
    {
     "name": "stderr",
     "output_type": "stream",
     "text": [
      "d_max: 512; OSDW_WER: 0±0%; OSDW: 0±0%; OSD0: 0±0%;: 100% 1000/1000 [00:03<00:00, 283.47it/s]\n"
     ]
    },
    {
     "name": "stdout",
     "output_type": "stream",
     "text": [
      "RNG Seed: 3\n",
      "Constructing CSS code from hx and hz matrices...\n",
      "Checking the CSS code is valid...\n",
      "<Unnamed CSS code>, (2,8)-[[512,2,nan]]\n",
      " -Block dimensions: Pass\n",
      " -PCMs commute hz@hx.T==0: Pass\n",
      " -PCMs commute hx@hz.T==0: Pass\n",
      " -lx \\in ker{hz} AND lz \\in ker{hx}: Pass\n",
      " -lx and lz anticommute: Pass\n",
      " -<Unnamed CSS code> is a valid CSS code w/ params (2,8)-[[512,2,nan]]\n"
     ]
    },
    {
     "name": "stderr",
     "output_type": "stream",
     "text": [
      "d_max: 512; OSDW_WER: 0±0%; OSDW: 0±0%; OSD0: 0±0%;: 100% 1000/1000 [00:03<00:00, 279.58it/s]\n"
     ]
    },
    {
     "name": "stdout",
     "output_type": "stream",
     "text": [
      "RNG Seed: 3\n",
      "Constructing CSS code from hx and hz matrices...\n",
      "Checking the CSS code is valid...\n",
      "<Unnamed CSS code>, (2,8)-[[512,2,nan]]\n",
      " -Block dimensions: Pass\n",
      " -PCMs commute hz@hx.T==0: Pass\n",
      " -PCMs commute hx@hz.T==0: Pass\n",
      " -lx \\in ker{hz} AND lz \\in ker{hx}: Pass\n",
      " -lx and lz anticommute: Pass\n",
      " -<Unnamed CSS code> is a valid CSS code w/ params (2,8)-[[512,2,nan]]\n"
     ]
    },
    {
     "name": "stderr",
     "output_type": "stream",
     "text": [
      "d_max: 512; OSDW_WER: 0±0%; OSDW: 0±0%; OSD0: 0±0%;: 100% 1000/1000 [00:03<00:00, 251.24it/s]\n"
     ]
    },
    {
     "name": "stdout",
     "output_type": "stream",
     "text": [
      "RNG Seed: 3\n",
      "Constructing CSS code from hx and hz matrices...\n",
      "Checking the CSS code is valid...\n",
      "<Unnamed CSS code>, (2,8)-[[512,2,nan]]\n",
      " -Block dimensions: Pass\n",
      " -PCMs commute hz@hx.T==0: Pass\n",
      " -PCMs commute hx@hz.T==0: Pass\n",
      " -lx \\in ker{hz} AND lz \\in ker{hx}: Pass\n",
      " -lx and lz anticommute: Pass\n",
      " -<Unnamed CSS code> is a valid CSS code w/ params (2,8)-[[512,2,nan]]\n"
     ]
    },
    {
     "name": "stderr",
     "output_type": "stream",
     "text": [
      "d_max: 512; OSDW_WER: 0±0%; OSDW: 0±0%; OSD0: 0±0%;: 100% 1000/1000 [00:03<00:00, 268.12it/s]\n"
     ]
    },
    {
     "name": "stdout",
     "output_type": "stream",
     "text": [
      "RNG Seed: 3\n",
      "Constructing CSS code from hx and hz matrices...\n",
      "Checking the CSS code is valid...\n",
      "<Unnamed CSS code>, (2,8)-[[512,2,nan]]\n",
      " -Block dimensions: Pass\n",
      " -PCMs commute hz@hx.T==0: Pass\n",
      " -PCMs commute hx@hz.T==0: Pass\n",
      " -lx \\in ker{hz} AND lz \\in ker{hx}: Pass\n",
      " -lx and lz anticommute: Pass\n",
      " -<Unnamed CSS code> is a valid CSS code w/ params (2,8)-[[512,2,nan]]\n"
     ]
    },
    {
     "name": "stderr",
     "output_type": "stream",
     "text": [
      "d_max: 64; OSDW_WER: 0.05±0.05%; OSDW: 0.1±0.1%; OSD0: 0.1±0.1%;: 100% 1000/1000 [00:03<00:00, 267.38it/s]      \n"
     ]
    },
    {
     "name": "stdout",
     "output_type": "stream",
     "text": [
      "RNG Seed: 3\n",
      "Constructing CSS code from hx and hz matrices...\n",
      "Checking the CSS code is valid...\n",
      "<Unnamed CSS code>, (2,8)-[[512,2,nan]]\n",
      " -Block dimensions: Pass\n",
      " -PCMs commute hz@hx.T==0: Pass\n",
      " -PCMs commute hx@hz.T==0: Pass\n",
      " -lx \\in ker{hz} AND lz \\in ker{hx}: Pass\n",
      " -lx and lz anticommute: Pass\n",
      " -<Unnamed CSS code> is a valid CSS code w/ params (2,8)-[[512,2,nan]]\n"
     ]
    },
    {
     "name": "stderr",
     "output_type": "stream",
     "text": [
      "d_max: 52; OSDW_WER: 0.05±0.05%; OSDW: 0.1±0.1%; OSD0: 0.1±0.1%;: 100% 1000/1000 [00:04<00:00, 235.40it/s]      \n"
     ]
    },
    {
     "name": "stdout",
     "output_type": "stream",
     "text": [
      "RNG Seed: 3\n",
      "Constructing CSS code from hx and hz matrices...\n",
      "Checking the CSS code is valid...\n",
      "<Unnamed CSS code>, (2,8)-[[512,2,nan]]\n",
      " -Block dimensions: Pass\n",
      " -PCMs commute hz@hx.T==0: Pass\n",
      " -PCMs commute hx@hz.T==0: Pass\n",
      " -lx \\in ker{hz} AND lz \\in ker{hx}: Pass\n",
      " -lx and lz anticommute: Pass\n",
      " -<Unnamed CSS code> is a valid CSS code w/ params (2,8)-[[512,2,nan]]\n"
     ]
    },
    {
     "name": "stderr",
     "output_type": "stream",
     "text": [
      "d_max: 32; OSDW_WER: 0.803±0.2%; OSDW: 1.6±0.4%; OSD0: 1.6±0.4%;: 100% 1000/1000 [00:04<00:00, 248.69it/s]    \n"
     ]
    },
    {
     "name": "stdout",
     "output_type": "stream",
     "text": [
      "RNG Seed: 3\n",
      "Constructing CSS code from hx and hz matrices...\n",
      "Checking the CSS code is valid...\n",
      "<Unnamed CSS code>, (2,8)-[[512,2,nan]]\n",
      " -Block dimensions: Pass\n",
      " -PCMs commute hz@hx.T==0: Pass\n",
      " -PCMs commute hx@hz.T==0: Pass\n",
      " -lx \\in ker{hz} AND lz \\in ker{hx}: Pass\n",
      " -lx and lz anticommute: Pass\n",
      " -<Unnamed CSS code> is a valid CSS code w/ params (2,8)-[[512,2,nan]]\n"
     ]
    },
    {
     "name": "stderr",
     "output_type": "stream",
     "text": [
      "d_max: 32; OSDW_WER: 1.56±0.27%; OSDW: 3.1±0.55%; OSD0: 3.1±0.55%;: 100% 1000/1000 [00:04<00:00, 232.99it/s] \n"
     ]
    },
    {
     "name": "stdout",
     "output_type": "stream",
     "text": [
      "RNG Seed: 3\n",
      "Constructing CSS code from hx and hz matrices...\n",
      "Checking the CSS code is valid...\n",
      "<Unnamed CSS code>, (2,8)-[[512,2,nan]]\n",
      " -Block dimensions: Pass\n",
      " -PCMs commute hz@hx.T==0: Pass\n",
      " -PCMs commute hx@hz.T==0: Pass\n",
      " -lx \\in ker{hz} AND lz \\in ker{hx}: Pass\n",
      " -lx and lz anticommute: Pass\n",
      " -<Unnamed CSS code> is a valid CSS code w/ params (2,8)-[[512,2,nan]]\n"
     ]
    },
    {
     "name": "stderr",
     "output_type": "stream",
     "text": [
      "d_max: 32; OSDW_WER: 3.56±0.41%; OSDW: 7±0.81%; OSD0: 7±0.81%;: 100% 1000/1000 [00:04<00:00, 236.83it/s]     \n"
     ]
    },
    {
     "name": "stdout",
     "output_type": "stream",
     "text": [
      "RNG Seed: 3\n",
      "Constructing CSS code from hx and hz matrices...\n",
      "Checking the CSS code is valid...\n",
      "<Unnamed CSS code>, (2,8)-[[512,2,nan]]\n",
      " -Block dimensions: Pass\n",
      " -PCMs commute hz@hx.T==0: Pass\n",
      " -PCMs commute hx@hz.T==0: Pass\n",
      " -lx \\in ker{hz} AND lz \\in ker{hx}: Pass\n",
      " -lx and lz anticommute: Pass\n",
      " -<Unnamed CSS code> is a valid CSS code w/ params (2,8)-[[512,2,nan]]\n"
     ]
    },
    {
     "name": "stderr",
     "output_type": "stream",
     "text": [
      "d_max: 32; OSDW_WER: 6.03±0.51%; OSDW: 11.7±1%; OSD0: 11.7±1%;: 100% 1000/1000 [00:04<00:00, 222.26it/s]   \n"
     ]
    },
    {
     "name": "stdout",
     "output_type": "stream",
     "text": [
      "RNG Seed: 3\n",
      "Constructing CSS code from hx and hz matrices...\n",
      "Checking the CSS code is valid...\n",
      "<Unnamed CSS code>, (2,8)-[[512,2,nan]]\n",
      " -Block dimensions: Pass\n",
      " -PCMs commute hz@hx.T==0: Pass\n",
      " -PCMs commute hx@hz.T==0: Pass\n",
      " -lx \\in ker{hz} AND lz \\in ker{hx}: Pass\n",
      " -lx and lz anticommute: Pass\n",
      " -<Unnamed CSS code> is a valid CSS code w/ params (2,8)-[[512,2,nan]]\n"
     ]
    },
    {
     "name": "stderr",
     "output_type": "stream",
     "text": [
      "d_max: 32; OSDW_WER: 9.94±0.62%; OSDW: 18.9±1.2%; OSD0: 18.9±1.2%;: 100% 1000/1000 [00:04<00:00, 219.90it/s]\n"
     ]
    },
    {
     "name": "stdout",
     "output_type": "stream",
     "text": [
      "RNG Seed: 3\n",
      "Constructing CSS code from hx and hz matrices...\n",
      "Checking the CSS code is valid...\n",
      "<Unnamed CSS code>, (2,8)-[[512,2,nan]]\n",
      " -Block dimensions: Pass\n",
      " -PCMs commute hz@hx.T==0: Pass\n",
      " -PCMs commute hx@hz.T==0: Pass\n",
      " -lx \\in ker{hz} AND lz \\in ker{hx}: Pass\n",
      " -lx and lz anticommute: Pass\n",
      " -<Unnamed CSS code> is a valid CSS code w/ params (2,8)-[[512,2,nan]]\n"
     ]
    },
    {
     "name": "stderr",
     "output_type": "stream",
     "text": [
      "d_max: 32; OSDW_WER: 15.1±0.71%; OSDW: 27.9±1.4%; OSD0: 27.9±1.4%;: 100% 1000/1000 [00:04<00:00, 236.45it/s]\n"
     ]
    },
    {
     "name": "stdout",
     "output_type": "stream",
     "text": [
      "RNG Seed: 3\n",
      "Constructing CSS code from hx and hz matrices...\n",
      "Checking the CSS code is valid...\n",
      "<Unnamed CSS code>, (2,8)-[[512,2,nan]]\n",
      " -Block dimensions: Pass\n",
      " -PCMs commute hz@hx.T==0: Pass\n",
      " -PCMs commute hx@hz.T==0: Pass\n",
      " -lx \\in ker{hz} AND lz \\in ker{hx}: Pass\n",
      " -lx and lz anticommute: Pass\n",
      " -<Unnamed CSS code> is a valid CSS code w/ params (2,8)-[[512,2,nan]]\n"
     ]
    },
    {
     "name": "stderr",
     "output_type": "stream",
     "text": [
      "d_max: 32; OSDW_WER: 21.3±0.77%; OSDW: 38.1±1.5%; OSD0: 38.1±1.5%;: 100% 1000/1000 [00:04<00:00, 220.82it/s]\n"
     ]
    },
    {
     "name": "stdout",
     "output_type": "stream",
     "text": [
      "RNG Seed: 3\n",
      "Constructing CSS code from hx and hz matrices...\n",
      "Checking the CSS code is valid...\n",
      "<Unnamed CSS code>, (2,8)-[[512,2,nan]]\n",
      " -Block dimensions: Pass\n",
      " -PCMs commute hz@hx.T==0: Pass\n",
      " -PCMs commute hx@hz.T==0: Pass\n",
      " -lx \\in ker{hz} AND lz \\in ker{hx}: Pass\n",
      " -lx and lz anticommute: Pass\n",
      " -<Unnamed CSS code> is a valid CSS code w/ params (2,8)-[[512,2,nan]]\n"
     ]
    },
    {
     "name": "stderr",
     "output_type": "stream",
     "text": [
      "d_max: 32; OSDW_WER: 26.2±0.79%; OSDW: 45.5±1.6%; OSD0: 45.5±1.6%;: 100% 1000/1000 [00:04<00:00, 234.61it/s]\n"
     ]
    }
   ],
   "source": [
    "lk4_array = surface_code_with_edge_augmentation(4,values)"
   ]
  },
  {
   "cell_type": "code",
   "execution_count": 10,
   "metadata": {},
   "outputs": [
    {
     "name": "stdout",
     "output_type": "stream",
     "text": [
      "RNG Seed: 3\n",
      "Constructing CSS code from hx and hz matrices...\n",
      "Checking the CSS code is valid...\n",
      "<Unnamed CSS code>, (2,8)-[[2048,2,nan]]\n",
      " -Block dimensions: Pass\n",
      " -PCMs commute hz@hx.T==0: Pass\n",
      " -PCMs commute hx@hz.T==0: Pass\n",
      " -lx \\in ker{hz} AND lz \\in ker{hx}: Pass\n",
      " -lx and lz anticommute: Pass\n",
      " -<Unnamed CSS code> is a valid CSS code w/ params (2,8)-[[2048,2,nan]]\n"
     ]
    },
    {
     "name": "stderr",
     "output_type": "stream",
     "text": [
      "d_max: 2048; OSDW_WER: 0±0%; OSDW: 0±0%; OSD0: 0±0%;: 100% 1000/1000 [00:17<00:00, 57.65it/s]\n"
     ]
    },
    {
     "name": "stdout",
     "output_type": "stream",
     "text": [
      "RNG Seed: 3\n",
      "Constructing CSS code from hx and hz matrices...\n",
      "Checking the CSS code is valid...\n",
      "<Unnamed CSS code>, (2,8)-[[2048,2,nan]]\n",
      " -Block dimensions: Pass\n",
      " -PCMs commute hz@hx.T==0: Pass\n",
      " -PCMs commute hx@hz.T==0: Pass\n",
      " -lx \\in ker{hz} AND lz \\in ker{hx}: Pass\n",
      " -lx and lz anticommute: Pass\n",
      " -<Unnamed CSS code> is a valid CSS code w/ params (2,8)-[[2048,2,nan]]\n"
     ]
    },
    {
     "name": "stderr",
     "output_type": "stream",
     "text": [
      "d_max: 2048; OSDW_WER: 0±0%; OSDW: 0±0%; OSD0: 0±0%;: 100% 1000/1000 [00:17<00:00, 58.07it/s]\n"
     ]
    },
    {
     "name": "stdout",
     "output_type": "stream",
     "text": [
      "RNG Seed: 3\n",
      "Constructing CSS code from hx and hz matrices...\n",
      "Checking the CSS code is valid...\n",
      "<Unnamed CSS code>, (2,8)-[[2048,2,nan]]\n",
      " -Block dimensions: Pass\n",
      " -PCMs commute hz@hx.T==0: Pass\n",
      " -PCMs commute hx@hz.T==0: Pass\n",
      " -lx \\in ker{hz} AND lz \\in ker{hx}: Pass\n",
      " -lx and lz anticommute: Pass\n",
      " -<Unnamed CSS code> is a valid CSS code w/ params (2,8)-[[2048,2,nan]]\n"
     ]
    },
    {
     "name": "stderr",
     "output_type": "stream",
     "text": [
      "d_max: 2048; OSDW_WER: 0±0%; OSDW: 0±0%; OSD0: 0±0%;: 100% 1000/1000 [00:17<00:00, 57.14it/s]\n"
     ]
    },
    {
     "name": "stdout",
     "output_type": "stream",
     "text": [
      "RNG Seed: 3\n",
      "Constructing CSS code from hx and hz matrices...\n",
      "Checking the CSS code is valid...\n",
      "<Unnamed CSS code>, (2,8)-[[2048,2,nan]]\n",
      " -Block dimensions: Pass\n",
      " -PCMs commute hz@hx.T==0: Pass\n",
      " -PCMs commute hx@hz.T==0: Pass\n",
      " -lx \\in ker{hz} AND lz \\in ker{hx}: Pass\n",
      " -lx and lz anticommute: Pass\n",
      " -<Unnamed CSS code> is a valid CSS code w/ params (2,8)-[[2048,2,nan]]\n"
     ]
    },
    {
     "name": "stderr",
     "output_type": "stream",
     "text": [
      "d_max: 2048; OSDW_WER: 0±0%; OSDW: 0±0%; OSD0: 0±0%;: 100% 1000/1000 [00:17<00:00, 55.56it/s]\n"
     ]
    },
    {
     "name": "stdout",
     "output_type": "stream",
     "text": [
      "RNG Seed: 3\n",
      "Constructing CSS code from hx and hz matrices...\n",
      "Checking the CSS code is valid...\n",
      "<Unnamed CSS code>, (2,8)-[[2048,2,nan]]\n",
      " -Block dimensions: Pass\n",
      " -PCMs commute hz@hx.T==0: Pass\n",
      " -PCMs commute hx@hz.T==0: Pass\n",
      " -lx \\in ker{hz} AND lz \\in ker{hx}: Pass\n",
      " -lx and lz anticommute: Pass\n",
      " -<Unnamed CSS code> is a valid CSS code w/ params (2,8)-[[2048,2,nan]]\n"
     ]
    },
    {
     "name": "stderr",
     "output_type": "stream",
     "text": [
      "d_max: 2048; OSDW_WER: 0±0%; OSDW: 0±0%; OSD0: 0±0%;: 100% 1000/1000 [00:18<00:00, 55.37it/s]\n"
     ]
    },
    {
     "name": "stdout",
     "output_type": "stream",
     "text": [
      "RNG Seed: 3\n",
      "Constructing CSS code from hx and hz matrices...\n",
      "Checking the CSS code is valid...\n",
      "<Unnamed CSS code>, (2,8)-[[2048,2,nan]]\n",
      " -Block dimensions: Pass\n",
      " -PCMs commute hz@hx.T==0: Pass\n",
      " -PCMs commute hx@hz.T==0: Pass\n",
      " -lx \\in ker{hz} AND lz \\in ker{hx}: Pass\n",
      " -lx and lz anticommute: Pass\n",
      " -<Unnamed CSS code> is a valid CSS code w/ params (2,8)-[[2048,2,nan]]\n"
     ]
    },
    {
     "name": "stderr",
     "output_type": "stream",
     "text": [
      "d_max: 2048; OSDW_WER: 0±0%; OSDW: 0±0%; OSD0: 0±0%;: 100% 1000/1000 [00:19<00:00, 51.01it/s]\n"
     ]
    },
    {
     "name": "stdout",
     "output_type": "stream",
     "text": [
      "RNG Seed: 3\n",
      "Constructing CSS code from hx and hz matrices...\n",
      "Checking the CSS code is valid...\n",
      "<Unnamed CSS code>, (2,8)-[[2048,2,nan]]\n",
      " -Block dimensions: Pass\n",
      " -PCMs commute hz@hx.T==0: Pass\n",
      " -PCMs commute hx@hz.T==0: Pass\n",
      " -lx \\in ker{hz} AND lz \\in ker{hx}: Pass\n",
      " -lx and lz anticommute: Pass\n",
      " -<Unnamed CSS code> is a valid CSS code w/ params (2,8)-[[2048,2,nan]]\n"
     ]
    },
    {
     "name": "stderr",
     "output_type": "stream",
     "text": [
      "d_max: 2048; OSDW_WER: 0±0%; OSDW: 0±0%; OSD0: 0±0%;: 100% 1000/1000 [00:19<00:00, 50.78it/s]\n"
     ]
    },
    {
     "name": "stdout",
     "output_type": "stream",
     "text": [
      "RNG Seed: 3\n",
      "Constructing CSS code from hx and hz matrices...\n",
      "Checking the CSS code is valid...\n",
      "<Unnamed CSS code>, (2,8)-[[2048,2,nan]]\n",
      " -Block dimensions: Pass\n",
      " -PCMs commute hz@hx.T==0: Pass\n",
      " -PCMs commute hx@hz.T==0: Pass\n",
      " -lx \\in ker{hz} AND lz \\in ker{hx}: Pass\n",
      " -lx and lz anticommute: Pass\n",
      " -<Unnamed CSS code> is a valid CSS code w/ params (2,8)-[[2048,2,nan]]\n"
     ]
    },
    {
     "name": "stderr",
     "output_type": "stream",
     "text": [
      "d_max: 2048; OSDW_WER: 0±0%; OSDW: 0±0%; OSD0: 0±0%;: 100% 1000/1000 [00:20<00:00, 48.82it/s]\n"
     ]
    },
    {
     "name": "stdout",
     "output_type": "stream",
     "text": [
      "RNG Seed: 3\n",
      "Constructing CSS code from hx and hz matrices...\n",
      "Checking the CSS code is valid...\n",
      "<Unnamed CSS code>, (2,8)-[[2048,2,nan]]\n",
      " -Block dimensions: Pass\n",
      " -PCMs commute hz@hx.T==0: Pass\n",
      " -PCMs commute hx@hz.T==0: Pass\n",
      " -lx \\in ker{hz} AND lz \\in ker{hx}: Pass\n",
      " -lx and lz anticommute: Pass\n",
      " -<Unnamed CSS code> is a valid CSS code w/ params (2,8)-[[2048,2,nan]]\n"
     ]
    },
    {
     "name": "stderr",
     "output_type": "stream",
     "text": [
      "d_max: 2048; OSDW_WER: 0±0%; OSDW: 0±0%; OSD0: 0±0%;: 100% 1000/1000 [00:22<00:00, 43.65it/s]\n"
     ]
    },
    {
     "name": "stdout",
     "output_type": "stream",
     "text": [
      "RNG Seed: 3\n",
      "Constructing CSS code from hx and hz matrices...\n",
      "Checking the CSS code is valid...\n",
      "<Unnamed CSS code>, (2,8)-[[2048,2,nan]]\n",
      " -Block dimensions: Pass\n",
      " -PCMs commute hz@hx.T==0: Pass\n",
      " -PCMs commute hx@hz.T==0: Pass\n",
      " -lx \\in ker{hz} AND lz \\in ker{hx}: Pass\n",
      " -lx and lz anticommute: Pass\n",
      " -<Unnamed CSS code> is a valid CSS code w/ params (2,8)-[[2048,2,nan]]\n"
     ]
    },
    {
     "name": "stderr",
     "output_type": "stream",
     "text": [
      "d_max: 2048; OSDW_WER: 0±0%; OSDW: 0±0%; OSD0: 0±0%;: 100% 1000/1000 [00:24<00:00, 40.68it/s]\n"
     ]
    },
    {
     "name": "stdout",
     "output_type": "stream",
     "text": [
      "RNG Seed: 3\n",
      "Constructing CSS code from hx and hz matrices...\n",
      "Checking the CSS code is valid...\n",
      "<Unnamed CSS code>, (2,8)-[[2048,2,nan]]\n",
      " -Block dimensions: Pass\n",
      " -PCMs commute hz@hx.T==0: Pass\n",
      " -PCMs commute hx@hz.T==0: Pass\n",
      " -lx \\in ker{hz} AND lz \\in ker{hx}: Pass\n",
      " -lx and lz anticommute: Pass\n",
      " -<Unnamed CSS code> is a valid CSS code w/ params (2,8)-[[2048,2,nan]]\n"
     ]
    },
    {
     "name": "stderr",
     "output_type": "stream",
     "text": [
      "d_max: 2048; OSDW_WER: 0±0%; OSDW: 0±0%; OSD0: 0±0%;: 100% 1000/1000 [00:24<00:00, 41.37it/s]\n"
     ]
    },
    {
     "name": "stdout",
     "output_type": "stream",
     "text": [
      "RNG Seed: 3\n",
      "Constructing CSS code from hx and hz matrices...\n",
      "Checking the CSS code is valid...\n",
      "<Unnamed CSS code>, (2,8)-[[2048,2,nan]]\n",
      " -Block dimensions: Pass\n",
      " -PCMs commute hz@hx.T==0: Pass\n",
      " -PCMs commute hx@hz.T==0: Pass\n",
      " -lx \\in ker{hz} AND lz \\in ker{hx}: Pass\n",
      " -lx and lz anticommute: Pass\n",
      " -<Unnamed CSS code> is a valid CSS code w/ params (2,8)-[[2048,2,nan]]\n"
     ]
    },
    {
     "name": "stderr",
     "output_type": "stream",
     "text": [
      "d_max: 2048; OSDW_WER: 0±0%; OSDW: 0±0%; OSD0: 0±0%;: 100% 1000/1000 [00:23<00:00, 42.74it/s]\n"
     ]
    },
    {
     "name": "stdout",
     "output_type": "stream",
     "text": [
      "RNG Seed: 3\n",
      "Constructing CSS code from hx and hz matrices...\n",
      "Checking the CSS code is valid...\n",
      "<Unnamed CSS code>, (2,8)-[[2048,2,nan]]\n",
      " -Block dimensions: Pass\n",
      " -PCMs commute hz@hx.T==0: Pass\n",
      " -PCMs commute hx@hz.T==0: Pass\n",
      " -lx \\in ker{hz} AND lz \\in ker{hx}: Pass\n",
      " -lx and lz anticommute: Pass\n",
      " -<Unnamed CSS code> is a valid CSS code w/ params (2,8)-[[2048,2,nan]]\n"
     ]
    },
    {
     "name": "stderr",
     "output_type": "stream",
     "text": [
      "d_max: 80; OSDW_WER: 0.25±0.11%; OSDW: 0.5±0.22%; OSD0: 0.5±0.22%;: 100% 1000/1000 [00:23<00:00, 42.72it/s]     \n"
     ]
    },
    {
     "name": "stdout",
     "output_type": "stream",
     "text": [
      "RNG Seed: 3\n",
      "Constructing CSS code from hx and hz matrices...\n",
      "Checking the CSS code is valid...\n",
      "<Unnamed CSS code>, (2,8)-[[2048,2,nan]]\n",
      " -Block dimensions: Pass\n",
      " -PCMs commute hz@hx.T==0: Pass\n",
      " -PCMs commute hx@hz.T==0: Pass\n",
      " -lx \\in ker{hz} AND lz \\in ker{hx}: Pass\n",
      " -lx and lz anticommute: Pass\n",
      " -<Unnamed CSS code> is a valid CSS code w/ params (2,8)-[[2048,2,nan]]\n"
     ]
    },
    {
     "name": "stderr",
     "output_type": "stream",
     "text": [
      "d_max: 84; OSDW_WER: 0.652±0.18%; OSDW: 1.3±0.36%; OSD0: 1.3±0.36%;: 100% 1000/1000 [00:24<00:00, 41.44it/s]    \n"
     ]
    },
    {
     "name": "stdout",
     "output_type": "stream",
     "text": [
      "RNG Seed: 3\n",
      "Constructing CSS code from hx and hz matrices...\n",
      "Checking the CSS code is valid...\n",
      "<Unnamed CSS code>, (2,8)-[[2048,2,nan]]\n",
      " -Block dimensions: Pass\n",
      " -PCMs commute hz@hx.T==0: Pass\n",
      " -PCMs commute hx@hz.T==0: Pass\n",
      " -lx \\in ker{hz} AND lz \\in ker{hx}: Pass\n",
      " -lx and lz anticommute: Pass\n",
      " -<Unnamed CSS code> is a valid CSS code w/ params (2,8)-[[2048,2,nan]]\n"
     ]
    },
    {
     "name": "stderr",
     "output_type": "stream",
     "text": [
      "d_max: 76; OSDW_WER: 1.61±0.28%; OSDW: 3.2±0.56%; OSD0: 3.2±0.56%;: 100% 1000/1000 [00:25<00:00, 39.29it/s]  \n"
     ]
    },
    {
     "name": "stdout",
     "output_type": "stream",
     "text": [
      "RNG Seed: 3\n",
      "Constructing CSS code from hx and hz matrices...\n",
      "Checking the CSS code is valid...\n",
      "<Unnamed CSS code>, (2,8)-[[2048,2,nan]]\n",
      " -Block dimensions: Pass\n",
      " -PCMs commute hz@hx.T==0: Pass\n",
      " -PCMs commute hx@hz.T==0: Pass\n",
      " -lx \\in ker{hz} AND lz \\in ker{hx}: Pass\n",
      " -lx and lz anticommute: Pass\n",
      " -<Unnamed CSS code> is a valid CSS code w/ params (2,8)-[[2048,2,nan]]\n"
     ]
    },
    {
     "name": "stderr",
     "output_type": "stream",
     "text": [
      "d_max: 96; OSDW_WER: 4.29±0.44%; OSDW: 8.4±0.88%; OSD0: 8.4±0.88%;: 100% 1000/1000 [00:25<00:00, 39.21it/s] \n"
     ]
    },
    {
     "name": "stdout",
     "output_type": "stream",
     "text": [
      "RNG Seed: 3\n",
      "Constructing CSS code from hx and hz matrices...\n",
      "Checking the CSS code is valid...\n",
      "<Unnamed CSS code>, (2,8)-[[2048,2,nan]]\n",
      " -Block dimensions: Pass\n",
      " -PCMs commute hz@hx.T==0: Pass\n",
      " -PCMs commute hx@hz.T==0: Pass\n",
      " -lx \\in ker{hz} AND lz \\in ker{hx}: Pass\n",
      " -lx and lz anticommute: Pass\n",
      " -<Unnamed CSS code> is a valid CSS code w/ params (2,8)-[[2048,2,nan]]\n"
     ]
    },
    {
     "name": "stderr",
     "output_type": "stream",
     "text": [
      "d_max: 112; OSDW_WER: 9.89±0.62%; OSDW: 18.8±1.2%; OSD0: 18.8±1.2%;: 100% 1000/1000 [00:25<00:00, 39.13it/s]\n"
     ]
    },
    {
     "name": "stdout",
     "output_type": "stream",
     "text": [
      "RNG Seed: 3\n",
      "Constructing CSS code from hx and hz matrices...\n",
      "Checking the CSS code is valid...\n",
      "<Unnamed CSS code>, (2,8)-[[2048,2,nan]]\n",
      " -Block dimensions: Pass\n",
      " -PCMs commute hz@hx.T==0: Pass\n",
      " -PCMs commute hx@hz.T==0: Pass\n",
      " -lx \\in ker{hz} AND lz \\in ker{hx}: Pass\n",
      " -lx and lz anticommute: Pass\n",
      " -<Unnamed CSS code> is a valid CSS code w/ params (2,8)-[[2048,2,nan]]\n"
     ]
    },
    {
     "name": "stderr",
     "output_type": "stream",
     "text": [
      "d_max: 124; OSDW_WER: 16.8±0.74%; OSDW: 30.8±1.5%; OSD0: 30.8±1.5%;: 100% 1000/1000 [00:25<00:00, 39.43it/s]\n"
     ]
    },
    {
     "name": "stdout",
     "output_type": "stream",
     "text": [
      "RNG Seed: 3\n",
      "Constructing CSS code from hx and hz matrices...\n",
      "Checking the CSS code is valid...\n",
      "<Unnamed CSS code>, (2,8)-[[2048,2,nan]]\n",
      " -Block dimensions: Pass\n",
      " -PCMs commute hz@hx.T==0: Pass\n",
      " -PCMs commute hx@hz.T==0: Pass\n",
      " -lx \\in ker{hz} AND lz \\in ker{hx}: Pass\n",
      " -lx and lz anticommute: Pass\n",
      " -<Unnamed CSS code> is a valid CSS code w/ params (2,8)-[[2048,2,nan]]\n"
     ]
    },
    {
     "name": "stderr",
     "output_type": "stream",
     "text": [
      "d_max: 132; OSDW_WER: 26.3±0.79%; OSDW: 45.7±1.6%; OSD0: 45.7±1.6%;: 100% 1000/1000 [00:25<00:00, 39.42it/s]\n"
     ]
    },
    {
     "name": "stdout",
     "output_type": "stream",
     "text": [
      "RNG Seed: 3\n",
      "Constructing CSS code from hx and hz matrices...\n",
      "Checking the CSS code is valid...\n",
      "<Unnamed CSS code>, (2,8)-[[2048,2,nan]]\n",
      " -Block dimensions: Pass\n",
      " -PCMs commute hz@hx.T==0: Pass\n",
      " -PCMs commute hx@hz.T==0: Pass\n",
      " -lx \\in ker{hz} AND lz \\in ker{hx}: Pass\n",
      " -lx and lz anticommute: Pass\n",
      " -<Unnamed CSS code> is a valid CSS code w/ params (2,8)-[[2048,2,nan]]\n"
     ]
    },
    {
     "name": "stderr",
     "output_type": "stream",
     "text": [
      "d_max: 156; OSDW_WER: 35.3±0.79%; OSDW: 58.1±1.6%; OSD0: 58.1±1.6%;: 100% 1000/1000 [00:24<00:00, 40.92it/s]\n"
     ]
    }
   ],
   "source": [
    "lk5_array = surface_code_with_edge_augmentation(5,values)"
   ]
  },
  {
   "cell_type": "code",
   "execution_count": 11,
   "metadata": {},
   "outputs": [],
   "source": [
    "# lk6_array = surface_code_with_edge_augmentation(6,values)"
   ]
  },
  {
   "cell_type": "code",
   "execution_count": 12,
   "metadata": {},
   "outputs": [],
   "source": [
    "# lk7_array = surface_code_with_edge_augmentation(7,values)"
   ]
  },
  {
   "cell_type": "code",
   "execution_count": 13,
   "metadata": {},
   "outputs": [],
   "source": [
    "y2 = np.array([lk.osdw_logical_error_rate for lk in lk2_array])\n",
    "y3 = np.array([lk.osdw_logical_error_rate for lk in lk3_array])\n",
    "y4 = np.array([lk.osdw_logical_error_rate for lk in lk4_array])\n",
    "y5 = np.array([lk.osdw_logical_error_rate for lk in lk5_array])\n",
    "# y6 = np.array([lk.osdw_logical_error_rate for lk in lk6_array])\n",
    "# y7 = np.array([lk.osdw_logical_error_rate for lk in lk7_array])"
   ]
  },
  {
   "cell_type": "code",
   "execution_count": 14,
   "metadata": {},
   "outputs": [
    {
     "data": {
      "image/png": "[encoded data removed]",
      "text/plain": [
       "<Figure size 640x480 with 1 Axes>"
      ]
     },
     "metadata": {},
     "output_type": "display_data"
    }
   ],
   "source": [
    "plt.loglog(values,y2,'-o',label = \"size 2\")\n",
    "plt.loglog(values,y3,'-o',label = \"size 4\")\n",
    "plt.loglog(values,y4,'-o',label = \"size 8\")\n",
    "plt.loglog(values,y5,'-o',label = \"size 16\")\n",
    "# plt.loglog(values,y6,'-o',label = \"size 32\")\n",
    "# plt.loglog(values,y7,'-o',label = \"size 64\")\n",
    "\n",
    "\n",
    "plt.title(\"surface code(edge augmented) with varying block sizes\")\n",
    "plt.legend()\n",
    "plt.xlabel(\"error rate\")\n",
    "plt.ylabel(\"logical error rate\")\n",
    "\n",
    "# plt.axvline(0.09)\n",
    "# plt.axvline(0.1)\n",
    "# plt.axvline(0.11)\n",
    "\n",
    "# plt.ion()\n",
    "plt.show()"
   ]
  },
  {
   "cell_type": "code",
   "execution_count": 15,
   "metadata": {},
   "outputs": [
    {
     "data": {
      "image/png": "[encoded data removed]",
      "text/plain": [
       "<Figure size 640x480 with 1 Axes>"
      ]
     },
     "metadata": {},
     "output_type": "display_data"
    }
   ],
   "source": [
    "plt.semilogy(values,y2,'-o',label = \"size 2\")\n",
    "plt.semilogy(values,y3,'-o',label = \"size 4\")\n",
    "plt.semilogy(values,y4,'-o',label = \"size 8\")\n",
    "plt.semilogy(values,y5,'-o',label = \"size 16\")\n",
    "# plt.semilogy(values,y6,'-o',label = \"size 32\")\n",
    "# plt.semilogy(values,y7,'-o',label = \"size 64\")\n",
    "\n",
    "\n",
    "plt.title(\"surface code(edge augmented) with varying block sizes\")\n",
    "plt.legend()\n",
    "plt.xlabel(\"error rate\")\n",
    "plt.ylabel(\"logical error rate\")\n",
    "\n",
    "# plt.axvline(0.09)\n",
    "# plt.axvline(0.1)\n",
    "# plt.axvline(0.11)\n",
    "\n",
    "# plt.ion()\n",
    "plt.show()"
   ]
  },
  {
   "cell_type": "markdown",
   "metadata": {},
   "source": [
    "Theshold zoom "
   ]
  },
  {
   "cell_type": "code",
   "execution_count": 16,
   "metadata": {},
   "outputs": [],
   "source": [
    "values = np.linspace(0.16,0.18,num=20)"
   ]
  },
  {
   "cell_type": "code",
   "execution_count": 17,
   "metadata": {},
   "outputs": [
    {
     "name": "stdout",
     "output_type": "stream",
     "text": [
      "RNG Seed: 3\n",
      "Constructing CSS code from hx and hz matrices...\n",
      "Checking the CSS code is valid...\n",
      "<Unnamed CSS code>, (2,8)-[[32,2,nan]]\n",
      " -Block dimensions: Pass\n",
      " -PCMs commute hz@hx.T==0: Pass\n",
      " -PCMs commute hx@hz.T==0: Pass\n",
      " -lx \\in ker{hz} AND lz \\in ker{hx}: Pass\n",
      " -lx and lz anticommute: Pass\n",
      " -<Unnamed CSS code> is a valid CSS code w/ params (2,8)-[[32,2,nan]]\n"
     ]
    },
    {
     "name": "stderr",
     "output_type": "stream",
     "text": [
      "d_max: 8; OSDW_WER: 10.6±0.64%; OSDW: 20.1±1.3%; OSD0: 20.1±1.3%;: 100% 1000/1000 [00:00<00:00, 1084.32it/s]\n"
     ]
    },
    {
     "name": "stdout",
     "output_type": "stream",
     "text": [
      "RNG Seed: 3\n",
      "Constructing CSS code from hx and hz matrices...\n",
      "Checking the CSS code is valid...\n",
      "<Unnamed CSS code>, (2,8)-[[32,2,nan]]\n",
      " -Block dimensions: Pass\n",
      " -PCMs commute hz@hx.T==0: Pass\n",
      " -PCMs commute hx@hz.T==0: Pass\n",
      " -lx \\in ker{hz} AND lz \\in ker{hx}: Pass\n",
      " -lx and lz anticommute: Pass\n",
      " -<Unnamed CSS code> is a valid CSS code w/ params (2,8)-[[32,2,nan]]\n"
     ]
    },
    {
     "name": "stderr",
     "output_type": "stream",
     "text": [
      "d_max: 8; OSDW_WER: 11.2±0.65%; OSDW: 21.2±1.3%; OSD0: 21.2±1.3%;: 100% 1000/1000 [00:00<00:00, 1092.08it/s]\n"
     ]
    },
    {
     "name": "stdout",
     "output_type": "stream",
     "text": [
      "RNG Seed: 3\n",
      "Constructing CSS code from hx and hz matrices...\n",
      "Checking the CSS code is valid...\n",
      "<Unnamed CSS code>, (2,8)-[[32,2,nan]]\n",
      " -Block dimensions: Pass\n",
      " -PCMs commute hz@hx.T==0: Pass\n",
      " -PCMs commute hx@hz.T==0: Pass\n",
      " -lx \\in ker{hz} AND lz \\in ker{hx}: Pass\n",
      " -lx and lz anticommute: Pass\n",
      " -<Unnamed CSS code> is a valid CSS code w/ params (2,8)-[[32,2,nan]]\n"
     ]
    },
    {
     "name": "stderr",
     "output_type": "stream",
     "text": [
      "d_max: 8; OSDW_WER: 11.3±0.65%; OSDW: 21.3±1.3%; OSD0: 21.3±1.3%;: 100% 1000/1000 [00:00<00:00, 1124.34it/s]\n"
     ]
    },
    {
     "name": "stdout",
     "output_type": "stream",
     "text": [
      "RNG Seed: 3\n",
      "Constructing CSS code from hx and hz matrices...\n",
      "Checking the CSS code is valid...\n",
      "<Unnamed CSS code>, (2,8)-[[32,2,nan]]\n",
      " -Block dimensions: Pass\n",
      " -PCMs commute hz@hx.T==0: Pass\n",
      " -PCMs commute hx@hz.T==0: Pass\n",
      " -lx \\in ker{hz} AND lz \\in ker{hx}: Pass\n",
      " -lx and lz anticommute: Pass\n",
      " -<Unnamed CSS code> is a valid CSS code w/ params (2,8)-[[32,2,nan]]\n"
     ]
    },
    {
     "name": "stderr",
     "output_type": "stream",
     "text": [
      "d_max: 8; OSDW_WER: 11.2±0.65%; OSDW: 21.1±1.3%; OSD0: 21.1±1.3%;: 100% 1000/1000 [00:00<00:00, 1002.30it/s]\n"
     ]
    },
    {
     "name": "stdout",
     "output_type": "stream",
     "text": [
      "RNG Seed: 3\n",
      "Constructing CSS code from hx and hz matrices...\n",
      "Checking the CSS code is valid...\n",
      "<Unnamed CSS code>, (2,8)-[[32,2,nan]]\n",
      " -Block dimensions: Pass\n",
      " -PCMs commute hz@hx.T==0: Pass\n",
      " -PCMs commute hx@hz.T==0: Pass\n",
      " -lx \\in ker{hz} AND lz \\in ker{hx}: Pass\n",
      " -lx and lz anticommute: Pass\n",
      " -<Unnamed CSS code> is a valid CSS code w/ params (2,8)-[[32,2,nan]]\n"
     ]
    },
    {
     "name": "stderr",
     "output_type": "stream",
     "text": [
      "d_max: 8; OSDW_WER: 11.5±0.65%; OSDW: 21.6±1.3%; OSD0: 21.6±1.3%;: 100% 1000/1000 [00:00<00:00, 1206.10it/s]\n"
     ]
    },
    {
     "name": "stdout",
     "output_type": "stream",
     "text": [
      "RNG Seed: 3\n",
      "Constructing CSS code from hx and hz matrices...\n",
      "Checking the CSS code is valid...\n",
      "<Unnamed CSS code>, (2,8)-[[32,2,nan]]\n",
      " -Block dimensions: Pass\n",
      " -PCMs commute hz@hx.T==0: Pass\n",
      " -PCMs commute hx@hz.T==0: Pass\n",
      " -lx \\in ker{hz} AND lz \\in ker{hx}: Pass\n",
      " -lx and lz anticommute: Pass\n",
      " -<Unnamed CSS code> is a valid CSS code w/ params (2,8)-[[32,2,nan]]\n"
     ]
    },
    {
     "name": "stderr",
     "output_type": "stream",
     "text": [
      "d_max: 8; OSDW_WER: 11.5±0.66%; OSDW: 21.7±1.3%; OSD0: 21.7±1.3%;: 100% 1000/1000 [00:01<00:00, 965.40it/s]\n"
     ]
    },
    {
     "name": "stdout",
     "output_type": "stream",
     "text": [
      "RNG Seed: 3\n",
      "Constructing CSS code from hx and hz matrices...\n",
      "Checking the CSS code is valid...\n",
      "<Unnamed CSS code>, (2,8)-[[32,2,nan]]\n",
      " -Block dimensions: Pass\n",
      " -PCMs commute hz@hx.T==0: Pass\n",
      " -PCMs commute hx@hz.T==0: Pass\n",
      " -lx \\in ker{hz} AND lz \\in ker{hx}: Pass\n",
      " -lx and lz anticommute: Pass\n",
      " -<Unnamed CSS code> is a valid CSS code w/ params (2,8)-[[32,2,nan]]\n"
     ]
    },
    {
     "name": "stderr",
     "output_type": "stream",
     "text": [
      "d_max: 8; OSDW_WER: 12.3±0.67%; OSDW: 23±1.3%; OSD0: 23±1.3%;: 100% 1000/1000 [00:00<00:00, 1117.06it/s]   \n"
     ]
    },
    {
     "name": "stdout",
     "output_type": "stream",
     "text": [
      "RNG Seed: 3\n",
      "Constructing CSS code from hx and hz matrices...\n",
      "Checking the CSS code is valid...\n",
      "<Unnamed CSS code>, (2,8)-[[32,2,nan]]\n",
      " -Block dimensions: Pass\n",
      " -PCMs commute hz@hx.T==0: Pass\n",
      " -PCMs commute hx@hz.T==0: Pass\n",
      " -lx \\in ker{hz} AND lz \\in ker{hx}: Pass\n",
      " -lx and lz anticommute: Pass\n",
      " -<Unnamed CSS code> is a valid CSS code w/ params (2,8)-[[32,2,nan]]\n"
     ]
    },
    {
     "name": "stderr",
     "output_type": "stream",
     "text": [
      "d_max: 8; OSDW_WER: 11.9±0.66%; OSDW: 22.3±1.3%; OSD0: 22.3±1.3%;: 100% 1000/1000 [00:01<00:00, 865.67it/s]\n"
     ]
    },
    {
     "name": "stdout",
     "output_type": "stream",
     "text": [
      "RNG Seed: 3\n",
      "Constructing CSS code from hx and hz matrices...\n",
      "Checking the CSS code is valid...\n",
      "<Unnamed CSS code>, (2,8)-[[32,2,nan]]\n",
      " -Block dimensions: Pass\n",
      " -PCMs commute hz@hx.T==0: Pass\n",
      " -PCMs commute hx@hz.T==0: Pass\n",
      " -lx \\in ker{hz} AND lz \\in ker{hx}: Pass\n",
      " -lx and lz anticommute: Pass\n",
      " -<Unnamed CSS code> is a valid CSS code w/ params (2,8)-[[32,2,nan]]\n"
     ]
    },
    {
     "name": "stderr",
     "output_type": "stream",
     "text": [
      "d_max: 8; OSDW_WER: 12.7±0.68%; OSDW: 23.7±1.3%; OSD0: 23.7±1.3%;: 100% 1000/1000 [00:01<00:00, 988.28it/s]\n"
     ]
    },
    {
     "name": "stdout",
     "output_type": "stream",
     "text": [
      "RNG Seed: 3\n",
      "Constructing CSS code from hx and hz matrices...\n",
      "Checking the CSS code is valid...\n",
      "<Unnamed CSS code>, (2,8)-[[32,2,nan]]\n",
      " -Block dimensions: Pass\n",
      " -PCMs commute hz@hx.T==0: Pass\n",
      " -PCMs commute hx@hz.T==0: Pass\n",
      " -lx \\in ker{hz} AND lz \\in ker{hx}: Pass\n",
      " -lx and lz anticommute: Pass\n",
      " -<Unnamed CSS code> is a valid CSS code w/ params (2,8)-[[32,2,nan]]\n"
     ]
    },
    {
     "name": "stderr",
     "output_type": "stream",
     "text": [
      "d_max: 8; OSDW_WER: 12.3±0.67%; OSDW: 23.1±1.3%; OSD0: 23.1±1.3%;: 100% 1000/1000 [00:01<00:00, 967.35it/s]\n"
     ]
    },
    {
     "name": "stdout",
     "output_type": "stream",
     "text": [
      "RNG Seed: 3\n",
      "Constructing CSS code from hx and hz matrices...\n",
      "Checking the CSS code is valid...\n",
      "<Unnamed CSS code>, (2,8)-[[32,2,nan]]\n",
      " -Block dimensions: Pass\n",
      " -PCMs commute hz@hx.T==0: Pass\n",
      " -PCMs commute hx@hz.T==0: Pass\n",
      " -lx \\in ker{hz} AND lz \\in ker{hx}: Pass\n",
      " -lx and lz anticommute: Pass\n",
      " -<Unnamed CSS code> is a valid CSS code w/ params (2,8)-[[32,2,nan]]\n"
     ]
    },
    {
     "name": "stderr",
     "output_type": "stream",
     "text": [
      "d_max: 8; OSDW_WER: 12.8±0.68%; OSDW: 24±1.4%; OSD0: 24±1.4%;: 100% 1000/1000 [00:00<00:00, 1103.18it/s]   \n"
     ]
    },
    {
     "name": "stdout",
     "output_type": "stream",
     "text": [
      "RNG Seed: 3\n",
      "Constructing CSS code from hx and hz matrices...\n",
      "Checking the CSS code is valid...\n",
      "<Unnamed CSS code>, (2,8)-[[32,2,nan]]\n",
      " -Block dimensions: Pass\n",
      " -PCMs commute hz@hx.T==0: Pass\n",
      " -PCMs commute hx@hz.T==0: Pass\n",
      " -lx \\in ker{hz} AND lz \\in ker{hx}: Pass\n",
      " -lx and lz anticommute: Pass\n",
      " -<Unnamed CSS code> is a valid CSS code w/ params (2,8)-[[32,2,nan]]\n"
     ]
    },
    {
     "name": "stderr",
     "output_type": "stream",
     "text": [
      "d_max: 8; OSDW_WER: 13.4±0.69%; OSDW: 25±1.4%; OSD0: 25±1.4%;: 100% 1000/1000 [00:00<00:00, 1175.02it/s]   \n"
     ]
    },
    {
     "name": "stdout",
     "output_type": "stream",
     "text": [
      "RNG Seed: 3\n",
      "Constructing CSS code from hx and hz matrices...\n",
      "Checking the CSS code is valid...\n",
      "<Unnamed CSS code>, (2,8)-[[32,2,nan]]\n",
      " -Block dimensions: Pass\n",
      " -PCMs commute hz@hx.T==0: Pass\n",
      " -PCMs commute hx@hz.T==0: Pass\n",
      " -lx \\in ker{hz} AND lz \\in ker{hx}: Pass\n",
      " -lx and lz anticommute: Pass\n",
      " -<Unnamed CSS code> is a valid CSS code w/ params (2,8)-[[32,2,nan]]\n"
     ]
    },
    {
     "name": "stderr",
     "output_type": "stream",
     "text": [
      "d_max: 8; OSDW_WER: 13.5±0.69%; OSDW: 25.2±1.4%; OSD0: 25.2±1.4%;: 100% 1000/1000 [00:00<00:00, 1232.56it/s]\n"
     ]
    },
    {
     "name": "stdout",
     "output_type": "stream",
     "text": [
      "RNG Seed: 3\n",
      "Constructing CSS code from hx and hz matrices...\n",
      "Checking the CSS code is valid...\n",
      "<Unnamed CSS code>, (2,8)-[[32,2,nan]]\n",
      " -Block dimensions: Pass\n",
      " -PCMs commute hz@hx.T==0: Pass\n",
      " -PCMs commute hx@hz.T==0: Pass\n",
      " -lx \\in ker{hz} AND lz \\in ker{hx}: Pass\n",
      " -lx and lz anticommute: Pass\n",
      " -<Unnamed CSS code> is a valid CSS code w/ params (2,8)-[[32,2,nan]]\n"
     ]
    },
    {
     "name": "stderr",
     "output_type": "stream",
     "text": [
      "d_max: 8; OSDW_WER: 13.9±0.7%; OSDW: 25.8±1.4%; OSD0: 25.8±1.4%;: 100% 1000/1000 [00:00<00:00, 1171.68it/s]\n"
     ]
    },
    {
     "name": "stdout",
     "output_type": "stream",
     "text": [
      "RNG Seed: 3\n",
      "Constructing CSS code from hx and hz matrices...\n",
      "Checking the CSS code is valid...\n",
      "<Unnamed CSS code>, (2,8)-[[32,2,nan]]\n",
      " -Block dimensions: Pass\n",
      " -PCMs commute hz@hx.T==0: Pass\n",
      " -PCMs commute hx@hz.T==0: Pass\n",
      " -lx \\in ker{hz} AND lz \\in ker{hx}: Pass\n",
      " -lx and lz anticommute: Pass\n",
      " -<Unnamed CSS code> is a valid CSS code w/ params (2,8)-[[32,2,nan]]\n"
     ]
    },
    {
     "name": "stderr",
     "output_type": "stream",
     "text": [
      "d_max: 8; OSDW_WER: 13.9±0.7%; OSDW: 25.9±1.4%; OSD0: 25.9±1.4%;: 100% 1000/1000 [00:00<00:00, 1257.37it/s]\n"
     ]
    },
    {
     "name": "stdout",
     "output_type": "stream",
     "text": [
      "RNG Seed: 3\n",
      "Constructing CSS code from hx and hz matrices...\n",
      "Checking the CSS code is valid...\n",
      "<Unnamed CSS code>, (2,8)-[[32,2,nan]]\n",
      " -Block dimensions: Pass\n",
      " -PCMs commute hz@hx.T==0: Pass\n",
      " -PCMs commute hx@hz.T==0: Pass\n",
      " -lx \\in ker{hz} AND lz \\in ker{hx}: Pass\n",
      " -lx and lz anticommute: Pass\n",
      " -<Unnamed CSS code> is a valid CSS code w/ params (2,8)-[[32,2,nan]]\n"
     ]
    },
    {
     "name": "stderr",
     "output_type": "stream",
     "text": [
      "d_max: 8; OSDW_WER: 14.1±0.7%; OSDW: 26.2±1.4%; OSD0: 26.2±1.4%;: 100% 1000/1000 [00:00<00:00, 1333.31it/s]\n"
     ]
    },
    {
     "name": "stdout",
     "output_type": "stream",
     "text": [
      "RNG Seed: 3\n",
      "Constructing CSS code from hx and hz matrices...\n",
      "Checking the CSS code is valid...\n",
      "<Unnamed CSS code>, (2,8)-[[32,2,nan]]\n",
      " -Block dimensions: Pass\n",
      " -PCMs commute hz@hx.T==0: Pass\n",
      " -PCMs commute hx@hz.T==0: Pass\n",
      " -lx \\in ker{hz} AND lz \\in ker{hx}: Pass\n",
      " -lx and lz anticommute: Pass\n",
      " -<Unnamed CSS code> is a valid CSS code w/ params (2,8)-[[32,2,nan]]\n"
     ]
    },
    {
     "name": "stderr",
     "output_type": "stream",
     "text": [
      "d_max: 8; OSDW_WER: 14.2±0.7%; OSDW: 26.4±1.4%; OSD0: 26.4±1.4%;: 100% 1000/1000 [00:00<00:00, 1200.73it/s]\n"
     ]
    },
    {
     "name": "stdout",
     "output_type": "stream",
     "text": [
      "RNG Seed: 3\n",
      "Constructing CSS code from hx and hz matrices...\n",
      "Checking the CSS code is valid...\n",
      "<Unnamed CSS code>, (2,8)-[[32,2,nan]]\n",
      " -Block dimensions: Pass\n",
      " -PCMs commute hz@hx.T==0: Pass\n",
      " -PCMs commute hx@hz.T==0: Pass\n",
      " -lx \\in ker{hz} AND lz \\in ker{hx}: Pass\n",
      " -lx and lz anticommute: Pass\n",
      " -<Unnamed CSS code> is a valid CSS code w/ params (2,8)-[[32,2,nan]]\n"
     ]
    },
    {
     "name": "stderr",
     "output_type": "stream",
     "text": [
      "d_max: 8; OSDW_WER: 14.6±0.71%; OSDW: 27±1.4%; OSD0: 27±1.4%;: 100% 1000/1000 [00:00<00:00, 1275.87it/s]   \n"
     ]
    },
    {
     "name": "stdout",
     "output_type": "stream",
     "text": [
      "RNG Seed: 3\n",
      "Constructing CSS code from hx and hz matrices...\n",
      "Checking the CSS code is valid...\n",
      "<Unnamed CSS code>, (2,8)-[[32,2,nan]]\n",
      " -Block dimensions: Pass\n",
      " -PCMs commute hz@hx.T==0: Pass\n",
      " -PCMs commute hx@hz.T==0: Pass\n",
      " -lx \\in ker{hz} AND lz \\in ker{hx}: Pass\n",
      " -lx and lz anticommute: Pass\n",
      " -<Unnamed CSS code> is a valid CSS code w/ params (2,8)-[[32,2,nan]]\n"
     ]
    },
    {
     "name": "stderr",
     "output_type": "stream",
     "text": [
      "d_max: 8; OSDW_WER: 14.6±0.71%; OSDW: 27±1.4%; OSD0: 27±1.4%;: 100% 1000/1000 [00:00<00:00, 1093.36it/s]   \n"
     ]
    },
    {
     "name": "stdout",
     "output_type": "stream",
     "text": [
      "RNG Seed: 3\n",
      "Constructing CSS code from hx and hz matrices...\n",
      "Checking the CSS code is valid...\n",
      "<Unnamed CSS code>, (2,8)-[[32,2,nan]]\n",
      " -Block dimensions: Pass\n",
      " -PCMs commute hz@hx.T==0: Pass\n",
      " -PCMs commute hx@hz.T==0: Pass\n",
      " -lx \\in ker{hz} AND lz \\in ker{hx}: Pass\n",
      " -lx and lz anticommute: Pass\n",
      " -<Unnamed CSS code> is a valid CSS code w/ params (2,8)-[[32,2,nan]]\n"
     ]
    },
    {
     "name": "stderr",
     "output_type": "stream",
     "text": [
      "d_max: 8; OSDW_WER: 15.1±0.71%; OSDW: 27.9±1.4%; OSD0: 27.9±1.4%;: 100% 1000/1000 [00:00<00:00, 1141.69it/s]\n"
     ]
    }
   ],
   "source": [
    "lk2_array1 = surface_code_with_edge_augmentation(2,values)"
   ]
  },
  {
   "cell_type": "code",
   "execution_count": 18,
   "metadata": {},
   "outputs": [
    {
     "name": "stdout",
     "output_type": "stream",
     "text": [
      "RNG Seed: 3\n",
      "Constructing CSS code from hx and hz matrices...\n",
      "Checking the CSS code is valid...\n",
      "<Unnamed CSS code>, (2,8)-[[128,2,nan]]\n",
      " -Block dimensions: Pass\n",
      " -PCMs commute hz@hx.T==0: Pass\n",
      " -PCMs commute hx@hz.T==0: Pass\n",
      " -lx \\in ker{hz} AND lz \\in ker{hx}: Pass\n",
      " -lx and lz anticommute: Pass\n",
      " -<Unnamed CSS code> is a valid CSS code w/ params (2,8)-[[128,2,nan]]\n"
     ]
    },
    {
     "name": "stderr",
     "output_type": "stream",
     "text": [
      "d_max: 16; OSDW_WER: 7.8±0.57%; OSDW: 15±1.1%; OSD0: 15±1.1%;: 100% 1000/1000 [00:01<00:00, 601.08it/s]    \n"
     ]
    },
    {
     "name": "stdout",
     "output_type": "stream",
     "text": [
      "RNG Seed: 3\n",
      "Constructing CSS code from hx and hz matrices...\n",
      "Checking the CSS code is valid...\n",
      "<Unnamed CSS code>, (2,8)-[[128,2,nan]]\n",
      " -Block dimensions: Pass\n",
      " -PCMs commute hz@hx.T==0: Pass\n",
      " -PCMs commute hx@hz.T==0: Pass\n",
      " -lx \\in ker{hz} AND lz \\in ker{hx}: Pass\n",
      " -lx and lz anticommute: Pass\n",
      " -<Unnamed CSS code> is a valid CSS code w/ params (2,8)-[[128,2,nan]]\n"
     ]
    },
    {
     "name": "stderr",
     "output_type": "stream",
     "text": [
      "d_max: 16; OSDW_WER: 8.08±0.58%; OSDW: 15.5±1.1%; OSD0: 15.5±1.1%;: 100% 1000/1000 [00:01<00:00, 675.25it/s]\n"
     ]
    },
    {
     "name": "stdout",
     "output_type": "stream",
     "text": [
      "RNG Seed: 3\n",
      "Constructing CSS code from hx and hz matrices...\n",
      "Checking the CSS code is valid...\n",
      "<Unnamed CSS code>, (2,8)-[[128,2,nan]]\n",
      " -Block dimensions: Pass\n",
      " -PCMs commute hz@hx.T==0: Pass\n",
      " -PCMs commute hx@hz.T==0: Pass\n",
      " -lx \\in ker{hz} AND lz \\in ker{hx}: Pass\n",
      " -lx and lz anticommute: Pass\n",
      " -<Unnamed CSS code> is a valid CSS code w/ params (2,8)-[[128,2,nan]]\n"
     ]
    },
    {
     "name": "stderr",
     "output_type": "stream",
     "text": [
      "d_max: 16; OSDW_WER: 8.62±0.59%; OSDW: 16.5±1.2%; OSD0: 16.5±1.2%;: 100% 1000/1000 [00:01<00:00, 671.57it/s]\n"
     ]
    },
    {
     "name": "stdout",
     "output_type": "stream",
     "text": [
      "RNG Seed: 3\n",
      "Constructing CSS code from hx and hz matrices...\n",
      "Checking the CSS code is valid...\n",
      "<Unnamed CSS code>, (2,8)-[[128,2,nan]]\n",
      " -Block dimensions: Pass\n",
      " -PCMs commute hz@hx.T==0: Pass\n",
      " -PCMs commute hx@hz.T==0: Pass\n",
      " -lx \\in ker{hz} AND lz \\in ker{hx}: Pass\n",
      " -lx and lz anticommute: Pass\n",
      " -<Unnamed CSS code> is a valid CSS code w/ params (2,8)-[[128,2,nan]]\n"
     ]
    },
    {
     "name": "stderr",
     "output_type": "stream",
     "text": [
      "d_max: 16; OSDW_WER: 9.17±0.6%; OSDW: 17.5±1.2%; OSD0: 17.5±1.2%;: 100% 1000/1000 [00:01<00:00, 641.87it/s]\n"
     ]
    },
    {
     "name": "stdout",
     "output_type": "stream",
     "text": [
      "RNG Seed: 3\n",
      "Constructing CSS code from hx and hz matrices...\n",
      "Checking the CSS code is valid...\n",
      "<Unnamed CSS code>, (2,8)-[[128,2,nan]]\n",
      " -Block dimensions: Pass\n",
      " -PCMs commute hz@hx.T==0: Pass\n",
      " -PCMs commute hx@hz.T==0: Pass\n",
      " -lx \\in ker{hz} AND lz \\in ker{hx}: Pass\n",
      " -lx and lz anticommute: Pass\n",
      " -<Unnamed CSS code> is a valid CSS code w/ params (2,8)-[[128,2,nan]]\n"
     ]
    },
    {
     "name": "stderr",
     "output_type": "stream",
     "text": [
      "d_max: 16; OSDW_WER: 9.34±0.61%; OSDW: 17.8±1.2%; OSD0: 17.8±1.2%;: 100% 1000/1000 [00:01<00:00, 712.54it/s]\n"
     ]
    },
    {
     "name": "stdout",
     "output_type": "stream",
     "text": [
      "RNG Seed: 3\n",
      "Constructing CSS code from hx and hz matrices...\n",
      "Checking the CSS code is valid...\n",
      "<Unnamed CSS code>, (2,8)-[[128,2,nan]]\n",
      " -Block dimensions: Pass\n",
      " -PCMs commute hz@hx.T==0: Pass\n",
      " -PCMs commute hx@hz.T==0: Pass\n",
      " -lx \\in ker{hz} AND lz \\in ker{hx}: Pass\n",
      " -lx and lz anticommute: Pass\n",
      " -<Unnamed CSS code> is a valid CSS code w/ params (2,8)-[[128,2,nan]]\n"
     ]
    },
    {
     "name": "stderr",
     "output_type": "stream",
     "text": [
      "d_max: 16; OSDW_WER: 9.56±0.61%; OSDW: 18.2±1.2%; OSD0: 18.2±1.2%;: 100% 1000/1000 [00:01<00:00, 740.73it/s]\n"
     ]
    },
    {
     "name": "stdout",
     "output_type": "stream",
     "text": [
      "RNG Seed: 3\n",
      "Constructing CSS code from hx and hz matrices...\n",
      "Checking the CSS code is valid...\n",
      "<Unnamed CSS code>, (2,8)-[[128,2,nan]]\n",
      " -Block dimensions: Pass\n",
      " -PCMs commute hz@hx.T==0: Pass\n",
      " -PCMs commute hx@hz.T==0: Pass\n",
      " -lx \\in ker{hz} AND lz \\in ker{hx}: Pass\n",
      " -lx and lz anticommute: Pass\n",
      " -<Unnamed CSS code> is a valid CSS code w/ params (2,8)-[[128,2,nan]]\n"
     ]
    },
    {
     "name": "stderr",
     "output_type": "stream",
     "text": [
      "d_max: 16; OSDW_WER: 9.89±0.62%; OSDW: 18.8±1.2%; OSD0: 18.8±1.2%;: 100% 1000/1000 [00:01<00:00, 772.32it/s]\n"
     ]
    },
    {
     "name": "stdout",
     "output_type": "stream",
     "text": [
      "RNG Seed: 3\n",
      "Constructing CSS code from hx and hz matrices...\n",
      "Checking the CSS code is valid...\n",
      "<Unnamed CSS code>, (2,8)-[[128,2,nan]]\n",
      " -Block dimensions: Pass\n",
      " -PCMs commute hz@hx.T==0: Pass\n",
      " -PCMs commute hx@hz.T==0: Pass\n",
      " -lx \\in ker{hz} AND lz \\in ker{hx}: Pass\n",
      " -lx and lz anticommute: Pass\n",
      " -<Unnamed CSS code> is a valid CSS code w/ params (2,8)-[[128,2,nan]]\n"
     ]
    },
    {
     "name": "stderr",
     "output_type": "stream",
     "text": [
      "d_max: 16; OSDW_WER: 9.89±0.62%; OSDW: 18.8±1.2%; OSD0: 18.8±1.2%;: 100% 1000/1000 [00:01<00:00, 715.41it/s]\n"
     ]
    },
    {
     "name": "stdout",
     "output_type": "stream",
     "text": [
      "RNG Seed: 3\n",
      "Constructing CSS code from hx and hz matrices...\n",
      "Checking the CSS code is valid...\n",
      "<Unnamed CSS code>, (2,8)-[[128,2,nan]]\n",
      " -Block dimensions: Pass\n",
      " -PCMs commute hz@hx.T==0: Pass\n",
      " -PCMs commute hx@hz.T==0: Pass\n",
      " -lx \\in ker{hz} AND lz \\in ker{hx}: Pass\n",
      " -lx and lz anticommute: Pass\n",
      " -<Unnamed CSS code> is a valid CSS code w/ params (2,8)-[[128,2,nan]]\n"
     ]
    },
    {
     "name": "stderr",
     "output_type": "stream",
     "text": [
      "d_max: 16; OSDW_WER: 10.1±0.63%; OSDW: 19.2±1.2%; OSD0: 19.2±1.2%;: 100% 1000/1000 [00:01<00:00, 603.51it/s]\n"
     ]
    },
    {
     "name": "stdout",
     "output_type": "stream",
     "text": [
      "RNG Seed: 3\n",
      "Constructing CSS code from hx and hz matrices...\n",
      "Checking the CSS code is valid...\n",
      "<Unnamed CSS code>, (2,8)-[[128,2,nan]]\n",
      " -Block dimensions: Pass\n",
      " -PCMs commute hz@hx.T==0: Pass\n",
      " -PCMs commute hx@hz.T==0: Pass\n",
      " -lx \\in ker{hz} AND lz \\in ker{hx}: Pass\n",
      " -lx and lz anticommute: Pass\n",
      " -<Unnamed CSS code> is a valid CSS code w/ params (2,8)-[[128,2,nan]]\n"
     ]
    },
    {
     "name": "stderr",
     "output_type": "stream",
     "text": [
      "d_max: 16; OSDW_WER: 10.4±0.63%; OSDW: 19.7±1.3%; OSD0: 19.7±1.3%;: 100% 1000/1000 [00:01<00:00, 671.31it/s]\n"
     ]
    },
    {
     "name": "stdout",
     "output_type": "stream",
     "text": [
      "RNG Seed: 3\n",
      "Constructing CSS code from hx and hz matrices...\n",
      "Checking the CSS code is valid...\n",
      "<Unnamed CSS code>, (2,8)-[[128,2,nan]]\n",
      " -Block dimensions: Pass\n",
      " -PCMs commute hz@hx.T==0: Pass\n",
      " -PCMs commute hx@hz.T==0: Pass\n",
      " -lx \\in ker{hz} AND lz \\in ker{hx}: Pass\n",
      " -lx and lz anticommute: Pass\n",
      " -<Unnamed CSS code> is a valid CSS code w/ params (2,8)-[[128,2,nan]]\n"
     ]
    },
    {
     "name": "stderr",
     "output_type": "stream",
     "text": [
      "d_max: 16; OSDW_WER: 10.9±0.64%; OSDW: 20.6±1.3%; OSD0: 20.6±1.3%;: 100% 1000/1000 [00:01<00:00, 689.42it/s]\n"
     ]
    },
    {
     "name": "stdout",
     "output_type": "stream",
     "text": [
      "RNG Seed: 3\n",
      "Constructing CSS code from hx and hz matrices...\n",
      "Checking the CSS code is valid...\n",
      "<Unnamed CSS code>, (2,8)-[[128,2,nan]]\n",
      " -Block dimensions: Pass\n",
      " -PCMs commute hz@hx.T==0: Pass\n",
      " -PCMs commute hx@hz.T==0: Pass\n",
      " -lx \\in ker{hz} AND lz \\in ker{hx}: Pass\n",
      " -lx and lz anticommute: Pass\n",
      " -<Unnamed CSS code> is a valid CSS code w/ params (2,8)-[[128,2,nan]]\n"
     ]
    },
    {
     "name": "stderr",
     "output_type": "stream",
     "text": [
      "d_max: 16; OSDW_WER: 11.6±0.66%; OSDW: 21.8±1.3%; OSD0: 21.8±1.3%;: 100% 1000/1000 [00:01<00:00, 698.03it/s]\n"
     ]
    },
    {
     "name": "stdout",
     "output_type": "stream",
     "text": [
      "RNG Seed: 3\n",
      "Constructing CSS code from hx and hz matrices...\n",
      "Checking the CSS code is valid...\n",
      "<Unnamed CSS code>, (2,8)-[[128,2,nan]]\n",
      " -Block dimensions: Pass\n",
      " -PCMs commute hz@hx.T==0: Pass\n",
      " -PCMs commute hx@hz.T==0: Pass\n",
      " -lx \\in ker{hz} AND lz \\in ker{hx}: Pass\n",
      " -lx and lz anticommute: Pass\n",
      " -<Unnamed CSS code> is a valid CSS code w/ params (2,8)-[[128,2,nan]]\n"
     ]
    },
    {
     "name": "stderr",
     "output_type": "stream",
     "text": [
      "d_max: 16; OSDW_WER: 11.9±0.66%; OSDW: 22.3±1.3%; OSD0: 22.3±1.3%;: 100% 1000/1000 [00:01<00:00, 702.66it/s]\n"
     ]
    },
    {
     "name": "stdout",
     "output_type": "stream",
     "text": [
      "RNG Seed: 3\n",
      "Constructing CSS code from hx and hz matrices...\n",
      "Checking the CSS code is valid...\n",
      "<Unnamed CSS code>, (2,8)-[[128,2,nan]]\n",
      " -Block dimensions: Pass\n",
      " -PCMs commute hz@hx.T==0: Pass\n",
      " -PCMs commute hx@hz.T==0: Pass\n",
      " -lx \\in ker{hz} AND lz \\in ker{hx}: Pass\n",
      " -lx and lz anticommute: Pass\n",
      " -<Unnamed CSS code> is a valid CSS code w/ params (2,8)-[[128,2,nan]]\n"
     ]
    },
    {
     "name": "stderr",
     "output_type": "stream",
     "text": [
      "d_max: 16; OSDW_WER: 12.1±0.67%; OSDW: 22.8±1.3%; OSD0: 22.8±1.3%;: 100% 1000/1000 [00:01<00:00, 704.52it/s]\n"
     ]
    },
    {
     "name": "stdout",
     "output_type": "stream",
     "text": [
      "RNG Seed: 3\n",
      "Constructing CSS code from hx and hz matrices...\n",
      "Checking the CSS code is valid...\n",
      "<Unnamed CSS code>, (2,8)-[[128,2,nan]]\n",
      " -Block dimensions: Pass\n",
      " -PCMs commute hz@hx.T==0: Pass\n",
      " -PCMs commute hx@hz.T==0: Pass\n",
      " -lx \\in ker{hz} AND lz \\in ker{hx}: Pass\n",
      " -lx and lz anticommute: Pass\n",
      " -<Unnamed CSS code> is a valid CSS code w/ params (2,8)-[[128,2,nan]]\n"
     ]
    },
    {
     "name": "stderr",
     "output_type": "stream",
     "text": [
      "d_max: 16; OSDW_WER: 12.5±0.67%; OSDW: 23.5±1.3%; OSD0: 23.5±1.3%;: 100% 1000/1000 [00:01<00:00, 678.22it/s]\n"
     ]
    },
    {
     "name": "stdout",
     "output_type": "stream",
     "text": [
      "RNG Seed: 3\n",
      "Constructing CSS code from hx and hz matrices...\n",
      "Checking the CSS code is valid...\n",
      "<Unnamed CSS code>, (2,8)-[[128,2,nan]]\n",
      " -Block dimensions: Pass\n",
      " -PCMs commute hz@hx.T==0: Pass\n",
      " -PCMs commute hx@hz.T==0: Pass\n",
      " -lx \\in ker{hz} AND lz \\in ker{hx}: Pass\n",
      " -lx and lz anticommute: Pass\n",
      " -<Unnamed CSS code> is a valid CSS code w/ params (2,8)-[[128,2,nan]]\n"
     ]
    },
    {
     "name": "stderr",
     "output_type": "stream",
     "text": [
      "d_max: 16; OSDW_WER: 13±0.68%; OSDW: 24.3±1.4%; OSD0: 24.3±1.4%;: 100% 1000/1000 [00:01<00:00, 681.20it/s] \n"
     ]
    },
    {
     "name": "stdout",
     "output_type": "stream",
     "text": [
      "RNG Seed: 3\n",
      "Constructing CSS code from hx and hz matrices...\n",
      "Checking the CSS code is valid...\n",
      "<Unnamed CSS code>, (2,8)-[[128,2,nan]]\n",
      " -Block dimensions: Pass\n",
      " -PCMs commute hz@hx.T==0: Pass\n",
      " -PCMs commute hx@hz.T==0: Pass\n",
      " -lx \\in ker{hz} AND lz \\in ker{hx}: Pass\n",
      " -lx and lz anticommute: Pass\n",
      " -<Unnamed CSS code> is a valid CSS code w/ params (2,8)-[[128,2,nan]]\n"
     ]
    },
    {
     "name": "stderr",
     "output_type": "stream",
     "text": [
      "d_max: 16; OSDW_WER: 14±0.7%; OSDW: 26±1.4%; OSD0: 26±1.4%;: 100% 1000/1000 [00:01<00:00, 616.24it/s]      \n"
     ]
    },
    {
     "name": "stdout",
     "output_type": "stream",
     "text": [
      "RNG Seed: 3\n",
      "Constructing CSS code from hx and hz matrices...\n",
      "Checking the CSS code is valid...\n",
      "<Unnamed CSS code>, (2,8)-[[128,2,nan]]\n",
      " -Block dimensions: Pass\n",
      " -PCMs commute hz@hx.T==0: Pass\n",
      " -PCMs commute hx@hz.T==0: Pass\n",
      " -lx \\in ker{hz} AND lz \\in ker{hx}: Pass\n",
      " -lx and lz anticommute: Pass\n",
      " -<Unnamed CSS code> is a valid CSS code w/ params (2,8)-[[128,2,nan]]\n"
     ]
    },
    {
     "name": "stderr",
     "output_type": "stream",
     "text": [
      "d_max: 16; OSDW_WER: 14.1±0.7%; OSDW: 26.2±1.4%; OSD0: 26.2±1.4%;: 100% 1000/1000 [00:01<00:00, 669.98it/s]\n"
     ]
    },
    {
     "name": "stdout",
     "output_type": "stream",
     "text": [
      "RNG Seed: 3\n",
      "Constructing CSS code from hx and hz matrices...\n",
      "Checking the CSS code is valid...\n",
      "<Unnamed CSS code>, (2,8)-[[128,2,nan]]\n",
      " -Block dimensions: Pass\n",
      " -PCMs commute hz@hx.T==0: Pass\n",
      " -PCMs commute hx@hz.T==0: Pass\n",
      " -lx \\in ker{hz} AND lz \\in ker{hx}: Pass\n",
      " -lx and lz anticommute: Pass\n",
      " -<Unnamed CSS code> is a valid CSS code w/ params (2,8)-[[128,2,nan]]\n"
     ]
    },
    {
     "name": "stderr",
     "output_type": "stream",
     "text": [
      "d_max: 16; OSDW_WER: 14.9±0.71%; OSDW: 27.5±1.4%; OSD0: 27.5±1.4%;: 100% 1000/1000 [00:01<00:00, 735.91it/s]\n"
     ]
    },
    {
     "name": "stdout",
     "output_type": "stream",
     "text": [
      "RNG Seed: 3\n",
      "Constructing CSS code from hx and hz matrices...\n",
      "Checking the CSS code is valid...\n",
      "<Unnamed CSS code>, (2,8)-[[128,2,nan]]\n",
      " -Block dimensions: Pass\n",
      " -PCMs commute hz@hx.T==0: Pass\n",
      " -PCMs commute hx@hz.T==0: Pass\n",
      " -lx \\in ker{hz} AND lz \\in ker{hx}: Pass\n",
      " -lx and lz anticommute: Pass\n",
      " -<Unnamed CSS code> is a valid CSS code w/ params (2,8)-[[128,2,nan]]\n"
     ]
    },
    {
     "name": "stderr",
     "output_type": "stream",
     "text": [
      "d_max: 16; OSDW_WER: 15.4±0.72%; OSDW: 28.5±1.4%; OSD0: 28.5±1.4%;: 100% 1000/1000 [00:01<00:00, 693.80it/s]\n"
     ]
    }
   ],
   "source": [
    "lk3_array1 = surface_code_with_edge_augmentation(3,values)"
   ]
  },
  {
   "cell_type": "code",
   "execution_count": 19,
   "metadata": {},
   "outputs": [
    {
     "name": "stdout",
     "output_type": "stream",
     "text": [
      "RNG Seed: 3\n",
      "Constructing CSS code from hx and hz matrices...\n",
      "Checking the CSS code is valid...\n",
      "<Unnamed CSS code>, (2,8)-[[512,2,nan]]\n",
      " -Block dimensions: Pass\n",
      " -PCMs commute hz@hx.T==0: Pass\n",
      " -PCMs commute hx@hz.T==0: Pass\n",
      " -lx \\in ker{hz} AND lz \\in ker{hx}: Pass\n",
      " -lx and lz anticommute: Pass\n",
      " -<Unnamed CSS code> is a valid CSS code w/ params (2,8)-[[512,2,nan]]\n"
     ]
    },
    {
     "name": "stderr",
     "output_type": "stream",
     "text": [
      "d_max: 32; OSDW_WER: 6.03±0.51%; OSDW: 11.7±1%; OSD0: 11.7±1%;: 100% 1000/1000 [00:04<00:00, 237.42it/s]   \n"
     ]
    },
    {
     "name": "stdout",
     "output_type": "stream",
     "text": [
      "RNG Seed: 3\n",
      "Constructing CSS code from hx and hz matrices...\n",
      "Checking the CSS code is valid...\n",
      "<Unnamed CSS code>, (2,8)-[[512,2,nan]]\n",
      " -Block dimensions: Pass\n",
      " -PCMs commute hz@hx.T==0: Pass\n",
      " -PCMs commute hx@hz.T==0: Pass\n",
      " -lx \\in ker{hz} AND lz \\in ker{hx}: Pass\n",
      " -lx and lz anticommute: Pass\n",
      " -<Unnamed CSS code> is a valid CSS code w/ params (2,8)-[[512,2,nan]]\n"
     ]
    },
    {
     "name": "stderr",
     "output_type": "stream",
     "text": [
      "d_max: 32; OSDW_WER: 6.25±0.52%; OSDW: 12.1±1%; OSD0: 12.1±1%;: 100% 1000/1000 [00:04<00:00, 226.16it/s]   \n"
     ]
    },
    {
     "name": "stdout",
     "output_type": "stream",
     "text": [
      "RNG Seed: 3\n",
      "Constructing CSS code from hx and hz matrices...\n",
      "Checking the CSS code is valid...\n",
      "<Unnamed CSS code>, (2,8)-[[512,2,nan]]\n",
      " -Block dimensions: Pass\n",
      " -PCMs commute hz@hx.T==0: Pass\n",
      " -PCMs commute hx@hz.T==0: Pass\n",
      " -lx \\in ker{hz} AND lz \\in ker{hx}: Pass\n",
      " -lx and lz anticommute: Pass\n",
      " -<Unnamed CSS code> is a valid CSS code w/ params (2,8)-[[512,2,nan]]\n"
     ]
    },
    {
     "name": "stderr",
     "output_type": "stream",
     "text": [
      "d_max: 32; OSDW_WER: 6.57±0.53%; OSDW: 12.7±1.1%; OSD0: 12.7±1.1%;: 100% 1000/1000 [00:04<00:00, 246.17it/s]\n"
     ]
    },
    {
     "name": "stdout",
     "output_type": "stream",
     "text": [
      "RNG Seed: 3\n",
      "Constructing CSS code from hx and hz matrices...\n",
      "Checking the CSS code is valid...\n",
      "<Unnamed CSS code>, (2,8)-[[512,2,nan]]\n",
      " -Block dimensions: Pass\n",
      " -PCMs commute hz@hx.T==0: Pass\n",
      " -PCMs commute hx@hz.T==0: Pass\n",
      " -lx \\in ker{hz} AND lz \\in ker{hx}: Pass\n",
      " -lx and lz anticommute: Pass\n",
      " -<Unnamed CSS code> is a valid CSS code w/ params (2,8)-[[512,2,nan]]\n"
     ]
    },
    {
     "name": "stderr",
     "output_type": "stream",
     "text": [
      "d_max: 32; OSDW_WER: 6.83±0.54%; OSDW: 13.2±1.1%; OSD0: 13.2±1.1%;: 100% 1000/1000 [00:04<00:00, 233.98it/s]\n"
     ]
    },
    {
     "name": "stdout",
     "output_type": "stream",
     "text": [
      "RNG Seed: 3\n",
      "Constructing CSS code from hx and hz matrices...\n",
      "Checking the CSS code is valid...\n",
      "<Unnamed CSS code>, (2,8)-[[512,2,nan]]\n",
      " -Block dimensions: Pass\n",
      " -PCMs commute hz@hx.T==0: Pass\n",
      " -PCMs commute hx@hz.T==0: Pass\n",
      " -lx \\in ker{hz} AND lz \\in ker{hx}: Pass\n",
      " -lx and lz anticommute: Pass\n",
      " -<Unnamed CSS code> is a valid CSS code w/ params (2,8)-[[512,2,nan]]\n"
     ]
    },
    {
     "name": "stderr",
     "output_type": "stream",
     "text": [
      "d_max: 32; OSDW_WER: 6.94±0.54%; OSDW: 13.4±1.1%; OSD0: 13.4±1.1%;: 100% 1000/1000 [00:04<00:00, 247.19it/s]\n"
     ]
    },
    {
     "name": "stdout",
     "output_type": "stream",
     "text": [
      "RNG Seed: 3\n",
      "Constructing CSS code from hx and hz matrices...\n",
      "Checking the CSS code is valid...\n",
      "<Unnamed CSS code>, (2,8)-[[512,2,nan]]\n",
      " -Block dimensions: Pass\n",
      " -PCMs commute hz@hx.T==0: Pass\n",
      " -PCMs commute hx@hz.T==0: Pass\n",
      " -lx \\in ker{hz} AND lz \\in ker{hx}: Pass\n",
      " -lx and lz anticommute: Pass\n",
      " -<Unnamed CSS code> is a valid CSS code w/ params (2,8)-[[512,2,nan]]\n"
     ]
    },
    {
     "name": "stderr",
     "output_type": "stream",
     "text": [
      "d_max: 32; OSDW_WER: 7.21±0.55%; OSDW: 13.9±1.1%; OSD0: 13.9±1.1%;: 100% 1000/1000 [00:04<00:00, 249.51it/s]\n"
     ]
    },
    {
     "name": "stdout",
     "output_type": "stream",
     "text": [
      "RNG Seed: 3\n",
      "Constructing CSS code from hx and hz matrices...\n",
      "Checking the CSS code is valid...\n",
      "<Unnamed CSS code>, (2,8)-[[512,2,nan]]\n",
      " -Block dimensions: Pass\n",
      " -PCMs commute hz@hx.T==0: Pass\n",
      " -PCMs commute hx@hz.T==0: Pass\n",
      " -lx \\in ker{hz} AND lz \\in ker{hx}: Pass\n",
      " -lx and lz anticommute: Pass\n",
      " -<Unnamed CSS code> is a valid CSS code w/ params (2,8)-[[512,2,nan]]\n"
     ]
    },
    {
     "name": "stderr",
     "output_type": "stream",
     "text": [
      "d_max: 32; OSDW_WER: 7.8±0.57%; OSDW: 15±1.1%; OSD0: 15±1.1%;: 100% 1000/1000 [00:04<00:00, 228.68it/s]    \n"
     ]
    },
    {
     "name": "stdout",
     "output_type": "stream",
     "text": [
      "RNG Seed: 3\n",
      "Constructing CSS code from hx and hz matrices...\n",
      "Checking the CSS code is valid...\n",
      "<Unnamed CSS code>, (2,8)-[[512,2,nan]]\n",
      " -Block dimensions: Pass\n",
      " -PCMs commute hz@hx.T==0: Pass\n",
      " -PCMs commute hx@hz.T==0: Pass\n",
      " -lx \\in ker{hz} AND lz \\in ker{hx}: Pass\n",
      " -lx and lz anticommute: Pass\n",
      " -<Unnamed CSS code> is a valid CSS code w/ params (2,8)-[[512,2,nan]]\n"
     ]
    },
    {
     "name": "stderr",
     "output_type": "stream",
     "text": [
      "d_max: 32; OSDW_WER: 8.57±0.59%; OSDW: 16.4±1.2%; OSD0: 16.4±1.2%;: 100% 1000/1000 [00:04<00:00, 247.66it/s]\n"
     ]
    },
    {
     "name": "stdout",
     "output_type": "stream",
     "text": [
      "RNG Seed: 3\n",
      "Constructing CSS code from hx and hz matrices...\n",
      "Checking the CSS code is valid...\n",
      "<Unnamed CSS code>, (2,8)-[[512,2,nan]]\n",
      " -Block dimensions: Pass\n",
      " -PCMs commute hz@hx.T==0: Pass\n",
      " -PCMs commute hx@hz.T==0: Pass\n",
      " -lx \\in ker{hz} AND lz \\in ker{hx}: Pass\n",
      " -lx and lz anticommute: Pass\n",
      " -<Unnamed CSS code> is a valid CSS code w/ params (2,8)-[[512,2,nan]]\n"
     ]
    },
    {
     "name": "stderr",
     "output_type": "stream",
     "text": [
      "d_max: 32; OSDW_WER: 9.23±0.61%; OSDW: 17.6±1.2%; OSD0: 17.6±1.2%;: 100% 1000/1000 [00:04<00:00, 235.26it/s]\n"
     ]
    },
    {
     "name": "stdout",
     "output_type": "stream",
     "text": [
      "RNG Seed: 3\n",
      "Constructing CSS code from hx and hz matrices...\n",
      "Checking the CSS code is valid...\n",
      "<Unnamed CSS code>, (2,8)-[[512,2,nan]]\n",
      " -Block dimensions: Pass\n",
      " -PCMs commute hz@hx.T==0: Pass\n",
      " -PCMs commute hx@hz.T==0: Pass\n",
      " -lx \\in ker{hz} AND lz \\in ker{hx}: Pass\n",
      " -lx and lz anticommute: Pass\n",
      " -<Unnamed CSS code> is a valid CSS code w/ params (2,8)-[[512,2,nan]]\n"
     ]
    },
    {
     "name": "stderr",
     "output_type": "stream",
     "text": [
      "d_max: 32; OSDW_WER: 9.45±0.61%; OSDW: 18±1.2%; OSD0: 18±1.2%;: 100% 1000/1000 [00:04<00:00, 248.71it/s]   \n"
     ]
    },
    {
     "name": "stdout",
     "output_type": "stream",
     "text": [
      "RNG Seed: 3\n",
      "Constructing CSS code from hx and hz matrices...\n",
      "Checking the CSS code is valid...\n",
      "<Unnamed CSS code>, (2,8)-[[512,2,nan]]\n",
      " -Block dimensions: Pass\n",
      " -PCMs commute hz@hx.T==0: Pass\n",
      " -PCMs commute hx@hz.T==0: Pass\n",
      " -lx \\in ker{hz} AND lz \\in ker{hx}: Pass\n",
      " -lx and lz anticommute: Pass\n",
      " -<Unnamed CSS code> is a valid CSS code w/ params (2,8)-[[512,2,nan]]\n"
     ]
    },
    {
     "name": "stderr",
     "output_type": "stream",
     "text": [
      "d_max: 32; OSDW_WER: 10.4±0.63%; OSDW: 19.7±1.3%; OSD0: 19.7±1.3%;: 100% 1000/1000 [00:04<00:00, 248.47it/s]\n"
     ]
    },
    {
     "name": "stdout",
     "output_type": "stream",
     "text": [
      "RNG Seed: 3\n",
      "Constructing CSS code from hx and hz matrices...\n",
      "Checking the CSS code is valid...\n",
      "<Unnamed CSS code>, (2,8)-[[512,2,nan]]\n",
      " -Block dimensions: Pass\n",
      " -PCMs commute hz@hx.T==0: Pass\n",
      " -PCMs commute hx@hz.T==0: Pass\n",
      " -lx \\in ker{hz} AND lz \\in ker{hx}: Pass\n",
      " -lx and lz anticommute: Pass\n",
      " -<Unnamed CSS code> is a valid CSS code w/ params (2,8)-[[512,2,nan]]\n"
     ]
    },
    {
     "name": "stderr",
     "output_type": "stream",
     "text": [
      "d_max: 32; OSDW_WER: 11±0.65%; OSDW: 20.8±1.3%; OSD0: 20.8±1.3%;: 100% 1000/1000 [00:04<00:00, 221.44it/s] \n"
     ]
    },
    {
     "name": "stdout",
     "output_type": "stream",
     "text": [
      "RNG Seed: 3\n",
      "Constructing CSS code from hx and hz matrices...\n",
      "Checking the CSS code is valid...\n",
      "<Unnamed CSS code>, (2,8)-[[512,2,nan]]\n",
      " -Block dimensions: Pass\n",
      " -PCMs commute hz@hx.T==0: Pass\n",
      " -PCMs commute hx@hz.T==0: Pass\n",
      " -lx \\in ker{hz} AND lz \\in ker{hx}: Pass\n",
      " -lx and lz anticommute: Pass\n",
      " -<Unnamed CSS code> is a valid CSS code w/ params (2,8)-[[512,2,nan]]\n"
     ]
    },
    {
     "name": "stderr",
     "output_type": "stream",
     "text": [
      "d_max: 32; OSDW_WER: 11.3±0.65%; OSDW: 21.4±1.3%; OSD0: 21.4±1.3%;: 100% 1000/1000 [00:05<00:00, 182.51it/s]\n"
     ]
    },
    {
     "name": "stdout",
     "output_type": "stream",
     "text": [
      "RNG Seed: 3\n",
      "Constructing CSS code from hx and hz matrices...\n",
      "Checking the CSS code is valid...\n",
      "<Unnamed CSS code>, (2,8)-[[512,2,nan]]\n",
      " -Block dimensions: Pass\n",
      " -PCMs commute hz@hx.T==0: Pass\n",
      " -PCMs commute hx@hz.T==0: Pass\n",
      " -lx \\in ker{hz} AND lz \\in ker{hx}: Pass\n",
      " -lx and lz anticommute: Pass\n",
      " -<Unnamed CSS code> is a valid CSS code w/ params (2,8)-[[512,2,nan]]\n"
     ]
    },
    {
     "name": "stderr",
     "output_type": "stream",
     "text": [
      "d_max: 32; OSDW_WER: 12±0.66%; OSDW: 22.5±1.3%; OSD0: 22.5±1.3%;: 100% 1000/1000 [00:05<00:00, 191.88it/s] \n"
     ]
    },
    {
     "name": "stdout",
     "output_type": "stream",
     "text": [
      "RNG Seed: 3\n",
      "Constructing CSS code from hx and hz matrices...\n",
      "Checking the CSS code is valid...\n",
      "<Unnamed CSS code>, (2,8)-[[512,2,nan]]\n",
      " -Block dimensions: Pass\n",
      " -PCMs commute hz@hx.T==0: Pass\n",
      " -PCMs commute hx@hz.T==0: Pass\n",
      " -lx \\in ker{hz} AND lz \\in ker{hx}: Pass\n",
      " -lx and lz anticommute: Pass\n",
      " -<Unnamed CSS code> is a valid CSS code w/ params (2,8)-[[512,2,nan]]\n"
     ]
    },
    {
     "name": "stderr",
     "output_type": "stream",
     "text": [
      "d_max: 32; OSDW_WER: 12.6±0.68%; OSDW: 23.6±1.3%; OSD0: 23.6±1.3%;: 100% 1000/1000 [00:05<00:00, 185.68it/s]\n"
     ]
    },
    {
     "name": "stdout",
     "output_type": "stream",
     "text": [
      "RNG Seed: 3\n",
      "Constructing CSS code from hx and hz matrices...\n",
      "Checking the CSS code is valid...\n",
      "<Unnamed CSS code>, (2,8)-[[512,2,nan]]\n",
      " -Block dimensions: Pass\n",
      " -PCMs commute hz@hx.T==0: Pass\n",
      " -PCMs commute hx@hz.T==0: Pass\n",
      " -lx \\in ker{hz} AND lz \\in ker{hx}: Pass\n",
      " -lx and lz anticommute: Pass\n",
      " -<Unnamed CSS code> is a valid CSS code w/ params (2,8)-[[512,2,nan]]\n"
     ]
    },
    {
     "name": "stderr",
     "output_type": "stream",
     "text": [
      "d_max: 32; OSDW_WER: 13.6±0.69%; OSDW: 25.4±1.4%; OSD0: 25.4±1.4%;: 100% 1000/1000 [00:05<00:00, 183.77it/s]\n"
     ]
    },
    {
     "name": "stdout",
     "output_type": "stream",
     "text": [
      "RNG Seed: 3\n",
      "Constructing CSS code from hx and hz matrices...\n",
      "Checking the CSS code is valid...\n",
      "<Unnamed CSS code>, (2,8)-[[512,2,nan]]\n",
      " -Block dimensions: Pass\n",
      " -PCMs commute hz@hx.T==0: Pass\n",
      " -PCMs commute hx@hz.T==0: Pass\n",
      " -lx \\in ker{hz} AND lz \\in ker{hx}: Pass\n",
      " -lx and lz anticommute: Pass\n",
      " -<Unnamed CSS code> is a valid CSS code w/ params (2,8)-[[512,2,nan]]\n"
     ]
    },
    {
     "name": "stderr",
     "output_type": "stream",
     "text": [
      "d_max: 32; OSDW_WER: 13.3±0.69%; OSDW: 24.9±1.4%; OSD0: 24.9±1.4%;: 100% 1000/1000 [00:05<00:00, 199.48it/s]\n"
     ]
    },
    {
     "name": "stdout",
     "output_type": "stream",
     "text": [
      "RNG Seed: 3\n",
      "Constructing CSS code from hx and hz matrices...\n",
      "Checking the CSS code is valid...\n",
      "<Unnamed CSS code>, (2,8)-[[512,2,nan]]\n",
      " -Block dimensions: Pass\n",
      " -PCMs commute hz@hx.T==0: Pass\n",
      " -PCMs commute hx@hz.T==0: Pass\n",
      " -lx \\in ker{hz} AND lz \\in ker{hx}: Pass\n",
      " -lx and lz anticommute: Pass\n",
      " -<Unnamed CSS code> is a valid CSS code w/ params (2,8)-[[512,2,nan]]\n"
     ]
    },
    {
     "name": "stderr",
     "output_type": "stream",
     "text": [
      "d_max: 32; OSDW_WER: 14±0.7%; OSDW: 26.1±1.4%; OSD0: 26.1±1.4%;: 100% 1000/1000 [00:04<00:00, 214.84it/s]  \n"
     ]
    },
    {
     "name": "stdout",
     "output_type": "stream",
     "text": [
      "RNG Seed: 3\n",
      "Constructing CSS code from hx and hz matrices...\n",
      "Checking the CSS code is valid...\n",
      "<Unnamed CSS code>, (2,8)-[[512,2,nan]]\n",
      " -Block dimensions: Pass\n",
      " -PCMs commute hz@hx.T==0: Pass\n",
      " -PCMs commute hx@hz.T==0: Pass\n",
      " -lx \\in ker{hz} AND lz \\in ker{hx}: Pass\n",
      " -lx and lz anticommute: Pass\n",
      " -<Unnamed CSS code> is a valid CSS code w/ params (2,8)-[[512,2,nan]]\n"
     ]
    },
    {
     "name": "stderr",
     "output_type": "stream",
     "text": [
      "d_max: 32; OSDW_WER: 14.4±0.7%; OSDW: 26.7±1.4%; OSD0: 26.7±1.4%;: 100% 1000/1000 [00:04<00:00, 219.25it/s]\n"
     ]
    },
    {
     "name": "stdout",
     "output_type": "stream",
     "text": [
      "RNG Seed: 3\n",
      "Constructing CSS code from hx and hz matrices...\n",
      "Checking the CSS code is valid...\n",
      "<Unnamed CSS code>, (2,8)-[[512,2,nan]]\n",
      " -Block dimensions: Pass\n",
      " -PCMs commute hz@hx.T==0: Pass\n",
      " -PCMs commute hx@hz.T==0: Pass\n",
      " -lx \\in ker{hz} AND lz \\in ker{hx}: Pass\n",
      " -lx and lz anticommute: Pass\n",
      " -<Unnamed CSS code> is a valid CSS code w/ params (2,8)-[[512,2,nan]]\n"
     ]
    },
    {
     "name": "stderr",
     "output_type": "stream",
     "text": [
      "d_max: 32; OSDW_WER: 15.1±0.71%; OSDW: 27.9±1.4%; OSD0: 27.9±1.4%;: 100% 1000/1000 [00:04<00:00, 217.11it/s]\n"
     ]
    }
   ],
   "source": [
    "lk4_array1 = surface_code_with_edge_augmentation(4,values)"
   ]
  },
  {
   "cell_type": "code",
   "execution_count": 20,
   "metadata": {},
   "outputs": [
    {
     "name": "stdout",
     "output_type": "stream",
     "text": [
      "RNG Seed: 3\n",
      "Constructing CSS code from hx and hz matrices...\n",
      "Checking the CSS code is valid...\n",
      "<Unnamed CSS code>, (2,8)-[[2048,2,nan]]\n",
      " -Block dimensions: Pass\n",
      " -PCMs commute hz@hx.T==0: Pass\n",
      " -PCMs commute hx@hz.T==0: Pass\n",
      " -lx \\in ker{hz} AND lz \\in ker{hx}: Pass\n",
      " -lx and lz anticommute: Pass\n",
      " -<Unnamed CSS code> is a valid CSS code w/ params (2,8)-[[2048,2,nan]]\n"
     ]
    },
    {
     "name": "stderr",
     "output_type": "stream",
     "text": [
      "d_max: 96; OSDW_WER: 4.29±0.44%; OSDW: 8.4±0.88%; OSD0: 8.4±0.88%;: 100% 1000/1000 [00:27<00:00, 36.28it/s] \n"
     ]
    },
    {
     "name": "stdout",
     "output_type": "stream",
     "text": [
      "RNG Seed: 3\n",
      "Constructing CSS code from hx and hz matrices...\n",
      "Checking the CSS code is valid...\n",
      "<Unnamed CSS code>, (2,8)-[[2048,2,nan]]\n",
      " -Block dimensions: Pass\n",
      " -PCMs commute hz@hx.T==0: Pass\n",
      " -PCMs commute hx@hz.T==0: Pass\n",
      " -lx \\in ker{hz} AND lz \\in ker{hx}: Pass\n",
      " -lx and lz anticommute: Pass\n",
      " -<Unnamed CSS code> is a valid CSS code w/ params (2,8)-[[2048,2,nan]]\n"
     ]
    },
    {
     "name": "stderr",
     "output_type": "stream",
     "text": [
      "d_max: 96; OSDW_WER: 4.55±0.45%; OSDW: 8.9±0.9%; OSD0: 8.9±0.9%;: 100% 1000/1000 [00:29<00:00, 34.40it/s]   \n"
     ]
    },
    {
     "name": "stdout",
     "output_type": "stream",
     "text": [
      "RNG Seed: 3\n",
      "Constructing CSS code from hx and hz matrices...\n",
      "Checking the CSS code is valid...\n",
      "<Unnamed CSS code>, (2,8)-[[2048,2,nan]]\n",
      " -Block dimensions: Pass\n",
      " -PCMs commute hz@hx.T==0: Pass\n",
      " -PCMs commute hx@hz.T==0: Pass\n",
      " -lx \\in ker{hz} AND lz \\in ker{hx}: Pass\n",
      " -lx and lz anticommute: Pass\n",
      " -<Unnamed CSS code> is a valid CSS code w/ params (2,8)-[[2048,2,nan]]\n"
     ]
    },
    {
     "name": "stderr",
     "output_type": "stream",
     "text": [
      "d_max: 104; OSDW_WER: 5.18±0.48%; OSDW: 10.1±0.95%; OSD0: 10.1±0.95%;: 100% 1000/1000 [00:27<00:00, 36.96it/s]\n"
     ]
    },
    {
     "name": "stdout",
     "output_type": "stream",
     "text": [
      "RNG Seed: 3\n",
      "Constructing CSS code from hx and hz matrices...\n",
      "Checking the CSS code is valid...\n",
      "<Unnamed CSS code>, (2,8)-[[2048,2,nan]]\n",
      " -Block dimensions: Pass\n",
      " -PCMs commute hz@hx.T==0: Pass\n",
      " -PCMs commute hx@hz.T==0: Pass\n",
      " -lx \\in ker{hz} AND lz \\in ker{hx}: Pass\n",
      " -lx and lz anticommute: Pass\n",
      " -<Unnamed CSS code> is a valid CSS code w/ params (2,8)-[[2048,2,nan]]\n"
     ]
    },
    {
     "name": "stderr",
     "output_type": "stream",
     "text": [
      "d_max: 104; OSDW_WER: 5.77±0.5%; OSDW: 11.2±1%; OSD0: 11.2±1%;: 100% 1000/1000 [00:23<00:00, 42.22it/s]     \n"
     ]
    },
    {
     "name": "stdout",
     "output_type": "stream",
     "text": [
      "RNG Seed: 3\n",
      "Constructing CSS code from hx and hz matrices...\n",
      "Checking the CSS code is valid...\n",
      "<Unnamed CSS code>, (2,8)-[[2048,2,nan]]\n",
      " -Block dimensions: Pass\n",
      " -PCMs commute hz@hx.T==0: Pass\n",
      " -PCMs commute hx@hz.T==0: Pass\n",
      " -lx \\in ker{hz} AND lz \\in ker{hx}: Pass\n",
      " -lx and lz anticommute: Pass\n",
      " -<Unnamed CSS code> is a valid CSS code w/ params (2,8)-[[2048,2,nan]]\n"
     ]
    },
    {
     "name": "stderr",
     "output_type": "stream",
     "text": [
      "d_max: 104; OSDW_WER: 6.73±0.53%; OSDW: 13±1.1%; OSD0: 13±1.1%;: 100% 1000/1000 [00:28<00:00, 35.45it/s]   \n"
     ]
    },
    {
     "name": "stdout",
     "output_type": "stream",
     "text": [
      "RNG Seed: 3\n",
      "Constructing CSS code from hx and hz matrices...\n",
      "Checking the CSS code is valid...\n",
      "<Unnamed CSS code>, (2,8)-[[2048,2,nan]]\n",
      " -Block dimensions: Pass\n",
      " -PCMs commute hz@hx.T==0: Pass\n",
      " -PCMs commute hx@hz.T==0: Pass\n",
      " -lx \\in ker{hz} AND lz \\in ker{hx}: Pass\n",
      " -lx and lz anticommute: Pass\n",
      " -<Unnamed CSS code> is a valid CSS code w/ params (2,8)-[[2048,2,nan]]\n"
     ]
    },
    {
     "name": "stderr",
     "output_type": "stream",
     "text": [
      "d_max: 104; OSDW_WER: 6.99±0.54%; OSDW: 13.5±1.1%; OSD0: 13.5±1.1%;: 100% 1000/1000 [00:24<00:00, 41.40it/s]\n"
     ]
    },
    {
     "name": "stdout",
     "output_type": "stream",
     "text": [
      "RNG Seed: 3\n",
      "Constructing CSS code from hx and hz matrices...\n",
      "Checking the CSS code is valid...\n",
      "<Unnamed CSS code>, (2,8)-[[2048,2,nan]]\n",
      " -Block dimensions: Pass\n",
      " -PCMs commute hz@hx.T==0: Pass\n",
      " -PCMs commute hx@hz.T==0: Pass\n",
      " -lx \\in ker{hz} AND lz \\in ker{hx}: Pass\n",
      " -lx and lz anticommute: Pass\n",
      " -<Unnamed CSS code> is a valid CSS code w/ params (2,8)-[[2048,2,nan]]\n"
     ]
    },
    {
     "name": "stderr",
     "output_type": "stream",
     "text": [
      "d_max: 104; OSDW_WER: 7.16±0.55%; OSDW: 13.8±1.1%; OSD0: 13.8±1.1%;: 100% 1000/1000 [00:23<00:00, 42.26it/s]\n"
     ]
    },
    {
     "name": "stdout",
     "output_type": "stream",
     "text": [
      "RNG Seed: 3\n",
      "Constructing CSS code from hx and hz matrices...\n",
      "Checking the CSS code is valid...\n",
      "<Unnamed CSS code>, (2,8)-[[2048,2,nan]]\n",
      " -Block dimensions: Pass\n",
      " -PCMs commute hz@hx.T==0: Pass\n",
      " -PCMs commute hx@hz.T==0: Pass\n",
      " -lx \\in ker{hz} AND lz \\in ker{hx}: Pass\n",
      " -lx and lz anticommute: Pass\n",
      " -<Unnamed CSS code> is a valid CSS code w/ params (2,8)-[[2048,2,nan]]\n"
     ]
    },
    {
     "name": "stderr",
     "output_type": "stream",
     "text": [
      "d_max: 104; OSDW_WER: 7.59±0.56%; OSDW: 14.6±1.1%; OSD0: 14.6±1.1%;: 100% 1000/1000 [00:23<00:00, 41.81it/s]\n"
     ]
    },
    {
     "name": "stdout",
     "output_type": "stream",
     "text": [
      "RNG Seed: 3\n",
      "Constructing CSS code from hx and hz matrices...\n",
      "Checking the CSS code is valid...\n",
      "<Unnamed CSS code>, (2,8)-[[2048,2,nan]]\n",
      " -Block dimensions: Pass\n",
      " -PCMs commute hz@hx.T==0: Pass\n",
      " -PCMs commute hx@hz.T==0: Pass\n",
      " -lx \\in ker{hz} AND lz \\in ker{hx}: Pass\n",
      " -lx and lz anticommute: Pass\n",
      " -<Unnamed CSS code> is a valid CSS code w/ params (2,8)-[[2048,2,nan]]\n"
     ]
    },
    {
     "name": "stderr",
     "output_type": "stream",
     "text": [
      "d_max: 104; OSDW_WER: 8.46±0.59%; OSDW: 16.2±1.2%; OSD0: 16.2±1.2%;: 100% 1000/1000 [00:24<00:00, 41.45it/s]\n"
     ]
    },
    {
     "name": "stdout",
     "output_type": "stream",
     "text": [
      "RNG Seed: 3\n",
      "Constructing CSS code from hx and hz matrices...\n",
      "Checking the CSS code is valid...\n",
      "<Unnamed CSS code>, (2,8)-[[2048,2,nan]]\n",
      " -Block dimensions: Pass\n",
      " -PCMs commute hz@hx.T==0: Pass\n",
      " -PCMs commute hx@hz.T==0: Pass\n",
      " -lx \\in ker{hz} AND lz \\in ker{hx}: Pass\n",
      " -lx and lz anticommute: Pass\n",
      " -<Unnamed CSS code> is a valid CSS code w/ params (2,8)-[[2048,2,nan]]\n"
     ]
    },
    {
     "name": "stderr",
     "output_type": "stream",
     "text": [
      "d_max: 104; OSDW_WER: 9.72±0.62%; OSDW: 18.5±1.2%; OSD0: 18.5±1.2%;: 100% 1000/1000 [00:23<00:00, 42.07it/s]\n"
     ]
    },
    {
     "name": "stdout",
     "output_type": "stream",
     "text": [
      "RNG Seed: 3\n",
      "Constructing CSS code from hx and hz matrices...\n",
      "Checking the CSS code is valid...\n",
      "<Unnamed CSS code>, (2,8)-[[2048,2,nan]]\n",
      " -Block dimensions: Pass\n",
      " -PCMs commute hz@hx.T==0: Pass\n",
      " -PCMs commute hx@hz.T==0: Pass\n",
      " -lx \\in ker{hz} AND lz \\in ker{hx}: Pass\n",
      " -lx and lz anticommute: Pass\n",
      " -<Unnamed CSS code> is a valid CSS code w/ params (2,8)-[[2048,2,nan]]\n"
     ]
    },
    {
     "name": "stderr",
     "output_type": "stream",
     "text": [
      "d_max: 112; OSDW_WER: 10.3±0.63%; OSDW: 19.5±1.3%; OSD0: 19.5±1.3%;: 100% 1000/1000 [00:26<00:00, 38.41it/s]\n"
     ]
    },
    {
     "name": "stdout",
     "output_type": "stream",
     "text": [
      "RNG Seed: 3\n",
      "Constructing CSS code from hx and hz matrices...\n",
      "Checking the CSS code is valid...\n",
      "<Unnamed CSS code>, (2,8)-[[2048,2,nan]]\n",
      " -Block dimensions: Pass\n",
      " -PCMs commute hz@hx.T==0: Pass\n",
      " -PCMs commute hx@hz.T==0: Pass\n",
      " -lx \\in ker{hz} AND lz \\in ker{hx}: Pass\n",
      " -lx and lz anticommute: Pass\n",
      " -<Unnamed CSS code> is a valid CSS code w/ params (2,8)-[[2048,2,nan]]\n"
     ]
    },
    {
     "name": "stderr",
     "output_type": "stream",
     "text": [
      "d_max: 104; OSDW_WER: 10.8±0.64%; OSDW: 20.5±1.3%; OSD0: 20.5±1.3%;: 100% 1000/1000 [00:25<00:00, 39.35it/s]\n"
     ]
    },
    {
     "name": "stdout",
     "output_type": "stream",
     "text": [
      "RNG Seed: 3\n",
      "Constructing CSS code from hx and hz matrices...\n",
      "Checking the CSS code is valid...\n",
      "<Unnamed CSS code>, (2,8)-[[2048,2,nan]]\n",
      " -Block dimensions: Pass\n",
      " -PCMs commute hz@hx.T==0: Pass\n",
      " -PCMs commute hx@hz.T==0: Pass\n",
      " -lx \\in ker{hz} AND lz \\in ker{hx}: Pass\n",
      " -lx and lz anticommute: Pass\n",
      " -<Unnamed CSS code> is a valid CSS code w/ params (2,8)-[[2048,2,nan]]\n"
     ]
    },
    {
     "name": "stderr",
     "output_type": "stream",
     "text": [
      "d_max: 120; OSDW_WER: 12±0.67%; OSDW: 22.6±1.3%; OSD0: 22.6±1.3%;: 100% 1000/1000 [00:25<00:00, 39.11it/s] \n"
     ]
    },
    {
     "name": "stdout",
     "output_type": "stream",
     "text": [
      "RNG Seed: 3\n",
      "Constructing CSS code from hx and hz matrices...\n",
      "Checking the CSS code is valid...\n",
      "<Unnamed CSS code>, (2,8)-[[2048,2,nan]]\n",
      " -Block dimensions: Pass\n",
      " -PCMs commute hz@hx.T==0: Pass\n",
      " -PCMs commute hx@hz.T==0: Pass\n",
      " -lx \\in ker{hz} AND lz \\in ker{hx}: Pass\n",
      " -lx and lz anticommute: Pass\n",
      " -<Unnamed CSS code> is a valid CSS code w/ params (2,8)-[[2048,2,nan]]\n"
     ]
    },
    {
     "name": "stderr",
     "output_type": "stream",
     "text": [
      "d_max: 120; OSDW_WER: 12.5±0.67%; OSDW: 23.4±1.3%; OSD0: 23.4±1.3%;: 100% 1000/1000 [00:25<00:00, 39.60it/s]\n"
     ]
    },
    {
     "name": "stdout",
     "output_type": "stream",
     "text": [
      "RNG Seed: 3\n",
      "Constructing CSS code from hx and hz matrices...\n",
      "Checking the CSS code is valid...\n",
      "<Unnamed CSS code>, (2,8)-[[2048,2,nan]]\n",
      " -Block dimensions: Pass\n",
      " -PCMs commute hz@hx.T==0: Pass\n",
      " -PCMs commute hx@hz.T==0: Pass\n",
      " -lx \\in ker{hz} AND lz \\in ker{hx}: Pass\n",
      " -lx and lz anticommute: Pass\n",
      " -<Unnamed CSS code> is a valid CSS code w/ params (2,8)-[[2048,2,nan]]\n"
     ]
    },
    {
     "name": "stderr",
     "output_type": "stream",
     "text": [
      "d_max: 124; OSDW_WER: 13.1±0.68%; OSDW: 24.4±1.4%; OSD0: 24.4±1.4%;: 100% 1000/1000 [00:24<00:00, 40.11it/s]\n"
     ]
    },
    {
     "name": "stdout",
     "output_type": "stream",
     "text": [
      "RNG Seed: 3\n",
      "Constructing CSS code from hx and hz matrices...\n",
      "Checking the CSS code is valid...\n",
      "<Unnamed CSS code>, (2,8)-[[2048,2,nan]]\n",
      " -Block dimensions: Pass\n",
      " -PCMs commute hz@hx.T==0: Pass\n",
      " -PCMs commute hx@hz.T==0: Pass\n",
      " -lx \\in ker{hz} AND lz \\in ker{hx}: Pass\n",
      " -lx and lz anticommute: Pass\n",
      " -<Unnamed CSS code> is a valid CSS code w/ params (2,8)-[[2048,2,nan]]\n"
     ]
    },
    {
     "name": "stderr",
     "output_type": "stream",
     "text": [
      "d_max: 124; OSDW_WER: 14.1±0.7%; OSDW: 26.2±1.4%; OSD0: 26.2±1.4%;: 100% 1000/1000 [00:24<00:00, 40.38it/s]\n"
     ]
    },
    {
     "name": "stdout",
     "output_type": "stream",
     "text": [
      "RNG Seed: 3\n",
      "Constructing CSS code from hx and hz matrices...\n",
      "Checking the CSS code is valid...\n",
      "<Unnamed CSS code>, (2,8)-[[2048,2,nan]]\n",
      " -Block dimensions: Pass\n",
      " -PCMs commute hz@hx.T==0: Pass\n",
      " -PCMs commute hx@hz.T==0: Pass\n",
      " -lx \\in ker{hz} AND lz \\in ker{hx}: Pass\n",
      " -lx and lz anticommute: Pass\n",
      " -<Unnamed CSS code> is a valid CSS code w/ params (2,8)-[[2048,2,nan]]\n"
     ]
    },
    {
     "name": "stderr",
     "output_type": "stream",
     "text": [
      "d_max: 124; OSDW_WER: 14.7±0.71%; OSDW: 27.3±1.4%; OSD0: 27.3±1.4%;: 100% 1000/1000 [00:24<00:00, 41.03it/s]\n"
     ]
    },
    {
     "name": "stdout",
     "output_type": "stream",
     "text": [
      "RNG Seed: 3\n",
      "Constructing CSS code from hx and hz matrices...\n",
      "Checking the CSS code is valid...\n",
      "<Unnamed CSS code>, (2,8)-[[2048,2,nan]]\n",
      " -Block dimensions: Pass\n",
      " -PCMs commute hz@hx.T==0: Pass\n",
      " -PCMs commute hx@hz.T==0: Pass\n",
      " -lx \\in ker{hz} AND lz \\in ker{hx}: Pass\n",
      " -lx and lz anticommute: Pass\n",
      " -<Unnamed CSS code> is a valid CSS code w/ params (2,8)-[[2048,2,nan]]\n"
     ]
    },
    {
     "name": "stderr",
     "output_type": "stream",
     "text": [
      "d_max: 112; OSDW_WER: 15.7±0.72%; OSDW: 28.9±1.4%; OSD0: 28.9±1.4%;: 100% 1000/1000 [00:24<00:00, 41.56it/s]\n"
     ]
    },
    {
     "name": "stdout",
     "output_type": "stream",
     "text": [
      "RNG Seed: 3\n",
      "Constructing CSS code from hx and hz matrices...\n",
      "Checking the CSS code is valid...\n",
      "<Unnamed CSS code>, (2,8)-[[2048,2,nan]]\n",
      " -Block dimensions: Pass\n",
      " -PCMs commute hz@hx.T==0: Pass\n",
      " -PCMs commute hx@hz.T==0: Pass\n",
      " -lx \\in ker{hz} AND lz \\in ker{hx}: Pass\n",
      " -lx and lz anticommute: Pass\n",
      " -<Unnamed CSS code> is a valid CSS code w/ params (2,8)-[[2048,2,nan]]\n"
     ]
    },
    {
     "name": "stderr",
     "output_type": "stream",
     "text": [
      "d_max: 112; OSDW_WER: 16.2±0.73%; OSDW: 29.7±1.4%; OSD0: 29.7±1.4%;: 100% 1000/1000 [00:24<00:00, 41.25it/s]\n"
     ]
    },
    {
     "name": "stdout",
     "output_type": "stream",
     "text": [
      "RNG Seed: 3\n",
      "Constructing CSS code from hx and hz matrices...\n",
      "Checking the CSS code is valid...\n",
      "<Unnamed CSS code>, (2,8)-[[2048,2,nan]]\n",
      " -Block dimensions: Pass\n",
      " -PCMs commute hz@hx.T==0: Pass\n",
      " -PCMs commute hx@hz.T==0: Pass\n",
      " -lx \\in ker{hz} AND lz \\in ker{hx}: Pass\n",
      " -lx and lz anticommute: Pass\n",
      " -<Unnamed CSS code> is a valid CSS code w/ params (2,8)-[[2048,2,nan]]\n"
     ]
    },
    {
     "name": "stderr",
     "output_type": "stream",
     "text": [
      "d_max: 124; OSDW_WER: 16.8±0.74%; OSDW: 30.8±1.5%; OSD0: 30.8±1.5%;: 100% 1000/1000 [00:24<00:00, 40.37it/s]\n"
     ]
    }
   ],
   "source": [
    "lk5_array1 = surface_code_with_edge_augmentation(5,values)"
   ]
  },
  {
   "cell_type": "code",
   "execution_count": 21,
   "metadata": {},
   "outputs": [],
   "source": [
    "# lk6_array1 = surface_code_with_edge_augmentation(6,values)"
   ]
  },
  {
   "cell_type": "code",
   "execution_count": 22,
   "metadata": {},
   "outputs": [],
   "source": [
    "# lk7_array1 = surface_code_with_edge_augmentation(7,values)"
   ]
  },
  {
   "cell_type": "code",
   "execution_count": 23,
   "metadata": {},
   "outputs": [],
   "source": [
    "y21 = np.array([lk.osdw_logical_error_rate for lk in lk2_array1])\n",
    "y31 = np.array([lk.osdw_logical_error_rate for lk in lk3_array1])\n",
    "y41 = np.array([lk.osdw_logical_error_rate for lk in lk4_array1])\n",
    "y51 = np.array([lk.osdw_logical_error_rate for lk in lk5_array1])\n",
    "# y61 = np.array([lk.osdw_logical_error_rate for lk in lk6_array1])\n",
    "# y71 = np.array([lk.osdw_logical_error_rate for lk in lk7_array1])"
   ]
  },
  {
   "cell_type": "code",
   "execution_count": 24,
   "metadata": {},
   "outputs": [
    {
     "data": {
      "image/png": "[encoded data removed]",
      "text/plain": [
       "<Figure size 640x480 with 1 Axes>"
      ]
     },
     "metadata": {},
     "output_type": "display_data"
    }
   ],
   "source": [
    "plt.loglog(values,y21,'-o',label = \"size 2\")\n",
    "plt.loglog(values,y31,'-o',label = \"size 4\")\n",
    "plt.loglog(values,y41,'-o',label = \"size 8\")\n",
    "plt.loglog(values,y51,'-o',label = \"size 16\")\n",
    "# plt.loglog(values,y61,'-o',label = \"size 32\")\n",
    "# plt.loglog(values,y71,'-o',label = \"size 64\")\n",
    "\n",
    "plt.title(\"surface code(edge augmented) with varying block sizes\")\n",
    "plt.legend()\n",
    "plt.xlabel(\"error rate\")\n",
    "plt.ylabel(\"logical error rate\")\n",
    "\n",
    "# plt.axvline(0.09)\n",
    "# plt.axvline(0.1)\n",
    "# plt.axvline(0.11)\n",
    "\n",
    "# plt.ion()\n",
    "plt.show()"
   ]
  },
  {
   "cell_type": "code",
   "execution_count": 25,
   "metadata": {},
   "outputs": [
    {
     "data": {
      "image/png": "[encoded data removed]",
      "text/plain": [
       "<Figure size 640x480 with 1 Axes>"
      ]
     },
     "metadata": {},
     "output_type": "display_data"
    }
   ],
   "source": [
    "plt.semilogy(values,y21,'-o',label = \"size 2\")\n",
    "plt.semilogy(values,y31,'-o',label = \"size 4\")\n",
    "plt.semilogy(values,y41,'-o',label = \"size 8\")\n",
    "plt.semilogy(values,y51,'-o',label = \"size 16\")\n",
    "# plt.semilogy(values,y61,'-o',label = \"size 32\")\n",
    "# plt.semilogy(values,y71,'-o',label = \"size 64\")\n",
    "\n",
    "\n",
    "plt.title(\"surface code(edge augmented) with varying block sizes\")\n",
    "plt.legend()\n",
    "plt.xlabel(\"error rate\")\n",
    "plt.ylabel(\"logical error rate\")\n",
    "\n",
    "# plt.axvline(0.09)\n",
    "# plt.axvline(0.1)\n",
    "# plt.axvline(0.11)\n",
    "\n",
    "# plt.ion()\n",
    "plt.show()"
   ]
  }
 ],
 "metadata": {
  "kernelspec": {
   "display_name": ".venv",
   "language": "python",
   "name": "python3"
  },
  "language_info": {
   "codemirror_mode": {
    "name": "ipython",
    "version": 3
   },
   "file_extension": ".py",
   "mimetype": "text/x-python",
   "name": "python",
   "nbconvert_exporter": "python",
   "pygments_lexer": "ipython3",
   "version": "3.12.0"
  }
 },
 "nbformat": 4,
 "nbformat_minor": 2
}
