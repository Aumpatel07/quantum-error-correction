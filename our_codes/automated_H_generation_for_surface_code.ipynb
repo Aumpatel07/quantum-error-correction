{
 "cells": [
  {
   "cell_type": "code",
   "execution_count": null,
   "metadata": {},
   "outputs": [],
   "source": [
    "import numpy as np"
   ]
  },
  {
   "cell_type": "markdown",
   "metadata": {},
   "source": [
    "Code to automate H matrix generation in a different representation\n",
    "\n",
    "for 1 order code - [[0 1 2 3]\n",
    "                    [0 1 2 3]]\n",
    "\n",
    "this describes the columns in H matrix where 1 shuold be present.\n",
    "\n",
    "Followed by Code to generate h matrix from the representation matrix calculated above."
   ]
  },
  {
   "cell_type": "code",
   "execution_count": null,
   "metadata": {},
   "outputs": [],
   "source": [
    "def H_matrix_generation(order_of_codes):\n",
    "    two_power_order_of_codes =  2 ** order_of_codes\n",
    "    no_of_checks = 2 ** (2 * order_of_codes - 1 )\n",
    "    no_of_qubits = 2 * no_of_checks \n",
    "\n",
    "    range_of_y = two_power_order_of_codes  \n",
    "    range_of_x = two_power_order_of_codes // 2\n",
    "\n",
    "\n",
    "    representation_matrix = np.zeros((no_of_checks,4), dtype=int)\n",
    "\n",
    "    row_number = 0 \n",
    "    for x in range(range_of_x):\n",
    "        for y in range(range_of_y):\n",
    "            representation_matrix[row_number,0] = (2* x) * range_of_y + (y)  \n",
    "\n",
    "            representation_matrix[row_number,1] = (2* x) * range_of_y + (y + 1  if y  != range_of_y - 1  else 0)\n",
    "            \n",
    "            if y % 2 == 0: representation_matrix[row_number,2] = (2*x + 1) * range_of_y + (y)\n",
    "            else: representation_matrix[row_number,2] = (2*x -1 if x != 0 else two_power_order_of_codes -1) * range_of_y + (y)\n",
    "            \n",
    "            if y % 2 == 0: representation_matrix[row_number,3] = (2*x + 1) * range_of_y + (y + 1 if y  != range_of_y- 1 else 0)\n",
    "            else: representation_matrix[row_number,3] = (2*x -1 if x != 0 else two_power_order_of_codes -1) * range_of_y + (y + 1 if y  != range_of_y- 1 else 0)\n",
    "\n",
    "            row_number += 1\n",
    "            \n",
    "\n",
    "    #generating H matrix from this representation\n",
    "\n",
    "    H_matrix = np.zeros((no_of_checks,no_of_qubits),dtype=int)\n",
    "    for i in range(representation_matrix.shape[0]):\n",
    "        for j in range (representation_matrix.shape[1]):\n",
    "            H_matrix[i,representation_matrix[i,j]] =1 \n",
    "\n",
    "    return H_matrix\n",
    "\n",
    "print(H_matrix_generation(2))"
   ]
  },
  {
   "cell_type": "markdown",
   "metadata": {},
   "source": [
    "Code to generate H matrixbut edge augmentation in a similar way."
   ]
  },
  {
   "cell_type": "code",
   "execution_count": null,
   "metadata": {},
   "outputs": [],
   "source": [
    "\n",
    "def edge_augmentated_H_matrix(order_of_codes):\n",
    "    two_power_order_of_codes =  2 ** order_of_codes\n",
    "    no_of_checks = 2 ** (2 * order_of_codes + 1 )\n",
    "    no_of_qubits = no_of_checks \n",
    "\n",
    "    range_of_y = two_power_order_of_codes * 2 \n",
    "    range_of_x = two_power_order_of_codes \n",
    "\n",
    "\n",
    "    representation_matrix = np.zeros((no_of_checks,4), dtype=int)\n",
    "\n",
    "    row_number = 0 \n",
    "    for x in range(range_of_x):\n",
    "        for y in range(range_of_y):\n",
    "\n",
    "            if ( y % 2 == 0 and x >= range_of_x // 2 ): \n",
    "                representation_matrix[row_number,:] = -1\n",
    "                row_number += 1\n",
    "                continue\n",
    "\n",
    "            if ( y % 2 == 0 ):\n",
    "                representation_matrix[row_number,0] = (2* x) * range_of_y+ (y)  \n",
    "\n",
    "                representation_matrix[row_number,1] = (2* x) * range_of_y+ (y + 1  if y  != range_of_y - 1  else 0)\n",
    "                \n",
    "                if y % 4 == 0: representation_matrix[row_number,2] = (2*x + 1) * range_of_y + (y)\n",
    "                else: representation_matrix[row_number,2] = (2*x -1 if x != 0 else range_of_x -1) * range_of_y + (y)\n",
    "                \n",
    "                if y % 4 == 0: representation_matrix[row_number,3] = (2*x + 1) * range_of_y + (y + 1 if y  != range_of_y- 1 else 0)\n",
    "                else: representation_matrix[row_number,3] = (2*x -1 if x != 0 else range_of_x -1) * range_of_y + (y + 1 if y  != range_of_y- 1 else 0)\n",
    "\n",
    "            else:\n",
    "                representation_matrix[row_number,0] = x * range_of_y + (y) \n",
    "                representation_matrix[row_number,1] = x * range_of_y + (y+1 if y != range_of_y -1 else 0)\n",
    "                representation_matrix[row_number,2] = -1 \n",
    "                representation_matrix[row_number,3] = -1 \n",
    "\n",
    "            row_number += 1\n",
    "\n",
    "    #generating H matrix from this representation\n",
    "\n",
    "    H_matrix = np.zeros((no_of_checks,no_of_qubits),dtype=int)\n",
    "    for i in range(representation_matrix.shape[0]):\n",
    "        for j in range (representation_matrix.shape[1]):\n",
    "            if( j == 0 and representation_matrix[i,j] == -1): H_matrix[i,:] = -1\n",
    "            if ( representation_matrix[i,j] != -1): H_matrix[i,representation_matrix[i,j]] =1 \n",
    "\n",
    "    #elimitaing rows with all -1 values\n",
    "    mask = ~(H_matrix == -1).all(axis =1)\n",
    "    filtered_H_matrix = H_matrix[mask]\n",
    "\n",
    "    return filtered_H_matrix\n",
    "\n",
    "print(edge_augmentated_H_matrix(2))\n",
    "\n",
    "\n"
   ]
  },
  {
   "cell_type": "markdown",
   "metadata": {},
   "source": [
    "Example simulation code"
   ]
  },
  {
   "cell_type": "code",
   "execution_count": null,
   "metadata": {},
   "outputs": [],
   "source": [
    "import numpy as np\n",
    "from bposd.hgp import hgp\n",
    "from bposd.css_decode_sim import css_decode_sim\n",
    "from bposd.css import css_code\n",
    "from automated_H_generation_for_surface_code import H_matrix_generation,edge_augmentated_H_matrix\n",
    "import matplotlib.pyplot as plt\n",
    "from our_codes.simulation_loop_for_surface_code import surface_code_with_edge_augmentation,surface_code_without_edge_augmentation\n",
    "\n",
    "\n",
    "y,x = surface_code_without_edge_augmentation(2)\n",
    "plt.plot(x,y)\n",
    "plt.show()\n",
    "\n"
   ]
  },
  {
   "cell_type": "code",
   "execution_count": 3,
   "metadata": {},
   "outputs": [
    {
     "name": "stdout",
     "output_type": "stream",
     "text": [
      "[[ True  True  True  True  True  True  True  True  True  True  True  True\n",
      "   True  True  True  True]\n",
      " [ True  True  True  True  True  True  True  True  True  True  True  True\n",
      "   True  True  True  True]\n",
      " [ True  True  True  True  True  True  True  True  True  True  True  True\n",
      "   True  True  True  True]\n",
      " [ True  True  True  True  True  True  True  True  True  True  True  True\n",
      "   True  True  True  True]\n",
      " [ True  True  True  True  True  True  True  True  True  True  True  True\n",
      "   True  True  True  True]\n",
      " [ True  True  True  True  True  True  True  True  True  True  True  True\n",
      "   True  True  True  True]\n",
      " [ True  True  True  True  True  True  True  True  True  True  True  True\n",
      "   True  True  True  True]\n",
      " [ True  True  True  True  True  True  True  True  True  True  True  True\n",
      "   True  True  True  True]]\n"
     ]
    }
   ],
   "source": [
    "from bposd.css import css_code\n",
    "from automated_H_generation_for_surface_code import H_matrix_generation\n",
    "\n",
    "Hx, Hz = H_matrix_generation(2)\n",
    "qcode = css_code(Hx,Hz)\n",
    "print( Hz == qcode.hz)"
   ]
  },
  {
   "cell_type": "code",
   "execution_count": 7,
   "metadata": {},
   "outputs": [
    {
     "name": "stdout",
     "output_type": "stream",
     "text": [
      "[0.01       0.03111111 0.05222222 0.07333333 0.09444444 0.11555556\n",
      " 0.13666667 0.15777778 0.17888889 0.2       ]\n"
     ]
    }
   ],
   "source": [
    "import numpy as np\n",
    "values = np.arange(0.001, 0.15 , 0.005)\n",
    "values = np.linspace(0.01, 0.2 , num=10)\n",
    "print(values)\n"
   ]
  }
 ],
 "metadata": {
  "kernelspec": {
   "display_name": ".venv",
   "language": "python",
   "name": "python3"
  },
  "language_info": {
   "codemirror_mode": {
    "name": "ipython",
    "version": 3
   },
   "file_extension": ".py",
   "mimetype": "text/x-python",
   "name": "python",
   "nbconvert_exporter": "python",
   "pygments_lexer": "ipython3",
   "version": "3.12.0"
  }
 },
 "nbformat": 4,
 "nbformat_minor": 2
}
